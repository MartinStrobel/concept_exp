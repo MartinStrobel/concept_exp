{
 "cells": [
  {
   "cell_type": "code",
   "execution_count": 40,
   "metadata": {
    "collapsed": false
   },
   "outputs": [],
   "source": [
    "import os\n",
    "from tensorflow import keras\n",
    "from tensorflow.keras  import backend as K\n",
    "from tensorflow.keras.models import Sequential\n",
    "from tensorflow.keras.layers import Conv2D, Dense, Flatten, Input, Lambda, MaxPooling2D, AveragePooling2D, Dropout, Layer\n",
    "\n",
    "from tensorflow.keras.models import Model\n",
    "import pandas as pd\n",
    "import numpy as np\n",
    "from tensorflow.keras.optimizers import Adam, SGD\n",
    "from sklearn.decomposition import PCA\n",
    "from sklearn.decomposition import TruncatedSVD\n",
    "from sklearn.utils.extmath import randomized_svd\n",
    "from absl import app\n",
    "from sklearn.linear_model import LogisticRegression\n",
    "from tensorflow.keras.preprocessing.image import ImageDataGenerator\n",
    "import tensorflow as tf\n",
    "import matplotlib.pyplot as plt\n",
    "import pickle"
   ]
  },
  {
   "cell_type": "code",
   "execution_count": 41,
   "metadata": {
    "collapsed": false
   },
   "outputs": [],
   "source": [
    "import tensorflow_datasets as tfds\n",
    "tf.compat.v1.disable_eager_execution()"
   ]
  },
  {
   "cell_type": "code",
   "execution_count": 42,
   "metadata": {
    "collapsed": true
   },
   "outputs": [],
   "source": [
    "import os\n",
    "os.environ[\"CUDA_DEVICE_ORDER\"]=\"PCI_BUS_ID\"   # see issue #152\n",
    "os.environ[\"CUDA_VISIBLE_DEVICES\"]=\"1\""
   ]
  },
  {
   "cell_type": "code",
   "execution_count": 43,
   "metadata": {
    "collapsed": true
   },
   "outputs": [],
   "source": [
    "model_dir = \"BIRD_data/\"\n",
    "n_concept = 100\n",
    "n_cluster = 5\n",
    "n = 60000\n",
    "batch_size = 128\n",
    "pretrain = False\n",
    "verbose = 2\n",
    "thres = 0.2\n",
    "seed = 0"
   ]
  },
  {
   "cell_type": "code",
   "execution_count": 44,
   "metadata": {
    "collapsed": true
   },
   "outputs": [],
   "source": [
    "train_directory='../data/cup_200_cropped/train_cropped_augmented2'\n",
    "org_train_directory='../data/cup_200_cropped/train_cropped'\n",
    "test_directory='../data/cup_200_cropped/test_cropped'"
   ]
  },
  {
   "cell_type": "code",
   "execution_count": 45,
   "metadata": {
    "collapsed": false
   },
   "outputs": [],
   "source": [
    "train_datagen=ImageDataGenerator(rescale=1/255,\n",
    "                                 #horizontal_flip=True,\n",
    "                                 #rotation_range=15,\n",
    "                                 #shear_range=10,\n",
    ")\n",
    "test_datagen=ImageDataGenerator(rescale=1/255)"
   ]
  },
  {
   "cell_type": "code",
   "execution_count": 46,
   "metadata": {
    "collapsed": false
   },
   "outputs": [
    {
     "name": "stdout",
     "output_type": "stream",
     "text": [
      "Found 179820 images belonging to 200 classes.\n",
      "Found 5794 images belonging to 200 classes.\n"
     ]
    }
   ],
   "source": [
    "train_generator=train_datagen.flow_from_directory(train_directory,\n",
    "                                                 target_size=(224,224),\n",
    "                                                 color_mode='rgb',\n",
    "                                                 shuffle=True,\n",
    "                                                 seed=seed,\n",
    "                                                 class_mode='sparse',batch_size=batch_size)\n",
    "\n",
    "val_generator=test_datagen.flow_from_directory(test_directory,\n",
    "                                                 target_size=(224,224),\n",
    "                                                 color_mode='rgb',\n",
    "                                                 shuffle=True,\n",
    "                                                 seed=seed,\n",
    "                                                 class_mode='sparse',batch_size=batch_size)"
   ]
  },
  {
   "cell_type": "code",
   "execution_count": 47,
   "metadata": {
    "collapsed": false
   },
   "outputs": [
    {
     "data": {
      "text/plain": [
       "45.9"
      ]
     },
     "execution_count": 47,
     "metadata": {},
     "output_type": "execute_result"
    }
   ],
   "source": [
    "(221130 /30 - 5994 )/30"
   ]
  },
  {
   "cell_type": "code",
   "execution_count": 25,
   "metadata": {
    "collapsed": false
   },
   "outputs": [],
   "source": [
    "# Create the dataframe to sample from the augmented dataset\n",
    "filenames = []\n",
    "folders = os.listdir(train_directory)\n",
    "for foldername in sorted(folders):\n",
    "    files = os.listdir(train_directory+\"/\"+foldername)\n",
    "    for filename in sorted(files):\n",
    "        filenames.append(foldername+\"/\"+filename)\n",
    "df = pd.DataFrame(filenames ,columns=[\"x_col\"])\n",
    "df[\"y_col\"] = df[\"x_col\"].map(lambda x: x.split(\".\")[0])"
   ]
  },
  {
   "cell_type": "code",
   "execution_count": 26,
   "metadata": {
    "collapsed": false
   },
   "outputs": [],
   "source": [
    "# Create the dataframe for the original dataset\n",
    "filenames = []\n",
    "folders = os.listdir(org_train_directory)\n",
    "for foldername in sorted(folders):\n",
    "    files = os.listdir(org_train_directory+\"/\"+foldername)\n",
    "    for filename in sorted(files):\n",
    "        filenames.append(foldername+\"/\"+filename)\n",
    "org_df = pd.DataFrame(filenames ,columns=[\"x_col\"])\n",
    "org_df[\"y_col\"] = org_df[\"x_col\"].map(lambda x: x.split(\".\")[0])"
   ]
  },
  {
   "cell_type": "code",
   "execution_count": 27,
   "metadata": {
    "collapsed": true
   },
   "outputs": [],
   "source": [
    "# Create the dataframe for the test dataset\n",
    "filenames = []\n",
    "folders = os.listdir(test_directory)\n",
    "for foldername in sorted(folders):\n",
    "    files = os.listdir(test_directory+\"/\"+foldername)\n",
    "    for filename in sorted(files):\n",
    "        filenames.append(foldername+\"/\"+filename)\n",
    "test_df = pd.DataFrame(filenames ,columns=[\"x_col\"])\n",
    "test_df[\"y_col\"] = test_df[\"x_col\"].map(lambda x: x.split(\".\")[0])"
   ]
  },
  {
   "cell_type": "code",
   "execution_count": 9,
   "metadata": {
    "collapsed": false
   },
   "outputs": [],
   "source": [
    "#convlayers =tf.keras.applications.ResNet50(\n",
    "#    include_top=False,\n",
    "#    weights=\"imagenet\",\n",
    "#    input_tensor=None,\n",
    "#    input_shape=(224, 224, 3),\n",
    "#    pooling=None,\n",
    "#    classes=200,\n",
    "#)\n",
    "\n"
   ]
  },
  {
   "cell_type": "code",
   "execution_count": 10,
   "metadata": {
    "collapsed": false
   },
   "outputs": [],
   "source": [
    "%load_ext autoreload\n",
    "%autoreload 2\n",
    "from ResNet34 import ResNet34"
   ]
  },
  {
   "cell_type": "code",
   "execution_count": 11,
   "metadata": {
    "collapsed": false
   },
   "outputs": [
    {
     "name": "stdout",
     "output_type": "stream",
     "text": [
      "WARNING:tensorflow:From /opt/anaconda/envs/tf2/lib/python3.6/site-packages/tensorflow_core/python/ops/resource_variable_ops.py:1630: calling BaseResourceVariable.__init__ (from tensorflow.python.ops.resource_variable_ops) with constraint is deprecated and will be removed in a future version.\n",
      "Instructions for updating:\n",
      "If using Keras pass *_constraint arguments to layers.\n"
     ]
    }
   ],
   "source": [
    "convlayers = ResNet34(input_shape=(224, 224, 3), input_tensor=None, weights='imagenet', include_top=False)\n",
    "dense1 = Dense(200,activation='softmax')"
   ]
  },
  {
   "cell_type": "code",
   "execution_count": 12,
   "metadata": {
    "collapsed": false
   },
   "outputs": [],
   "source": [
    "model=Sequential()\n",
    "model.add(convlayers)\n",
    "model.add(AveragePooling2D(7,7))\n",
    "model.add(Flatten())\n",
    "model.add(dense1)"
   ]
  },
  {
   "cell_type": "code",
   "execution_count": 13,
   "metadata": {
    "collapsed": false
   },
   "outputs": [
    {
     "name": "stdout",
     "output_type": "stream",
     "text": [
      "Model: \"sequential\"\n",
      "_________________________________________________________________\n",
      "Layer (type)                 Output Shape              Param #   \n",
      "=================================================================\n",
      "resnet34 (Model)             (None, 7, 7, 512)         21302473  \n",
      "_________________________________________________________________\n",
      "average_pooling2d (AveragePo (None, 1, 1, 512)         0         \n",
      "_________________________________________________________________\n",
      "flatten (Flatten)            (None, 512)               0         \n",
      "_________________________________________________________________\n",
      "dense (Dense)                (None, 200)               102600    \n",
      "=================================================================\n",
      "Total params: 21,405,073\n",
      "Trainable params: 21,389,707\n",
      "Non-trainable params: 15,366\n",
      "_________________________________________________________________\n",
      "None\n"
     ]
    }
   ],
   "source": [
    "print(model.summary())"
   ]
  },
  {
   "cell_type": "code",
   "execution_count": 14,
   "metadata": {
    "collapsed": false
   },
   "outputs": [],
   "source": [
    "opt=tf.keras.optimizers.Adam(lr=0.0001)\n",
    "model.compile(loss='sparse_categorical_crossentropy',metrics=['accuracy'],optimizer=opt)"
   ]
  },
  {
   "cell_type": "code",
   "execution_count": 15,
   "metadata": {
    "collapsed": false
   },
   "outputs": [
    {
     "name": "stdout",
     "output_type": "stream",
     "text": [
      "1739/1739 [==============================] - 912s 524ms/step - loss: 0.4159 - accuracy: 0.9275 - val_loss: 1.0181 - val_accuracy: 0.7511\n"
     ]
    }
   ],
   "source": [
    "history=model.fit(train_generator,validation_data=val_generator,\n",
    "         epochs=1)"
   ]
  },
  {
   "cell_type": "code",
   "execution_count": 203,
   "metadata": {
    "collapsed": false
   },
   "outputs": [],
   "source": [
    "def load_model_stm_new(train_generator,val_generator, input_shape=(224, 224, 3),  verbose=True):\n",
    "    \"\"\"Loads pretrain model or train one.\"\"\"\n",
    "    convlayers = ResNet34(input_shape=input_shape, input_tensor=None, weights='imagenet', include_top=False)\n",
    "    dense1 = Dense(200,activation='softmax')\n",
    "\n",
    "    model=Sequential()\n",
    "    model.add(convlayers)\n",
    "    model.add(AveragePooling2D(7,7))\n",
    "    model.add(Flatten())\n",
    "    model.add(dense1)\n",
    "    optimizer = tf.keras.optimizers.RMSprop(lr=0.001, rho=0.9, epsilon=1e-08, decay=0.0)\n",
    "    opt=tf.keras.optimizers.Adam(lr=0.0001)\n",
    "    model.compile(loss='sparse_categorical_crossentropy',metrics=['accuracy'],optimizer=opt)\n",
    "    \n",
    "    history=model.fit_generator(train_generator,validation_data=val_generator,\n",
    "         epochs=10, verbose=verbose)\n",
    "    \n",
    "    for layer in model.layers:\n",
    "        layer.trainable = False\n",
    "    \n",
    "    feature_model =  Sequential()\n",
    "    feature_model.add(convlayers)\n",
    "    feature_model.add(AveragePooling2D(7,7))\n",
    "    predict_model  =  Sequential()\n",
    "    predict_model.add(Flatten())\n",
    "    predict_model.add(dense1)\n",
    "\n",
    "    return feature_model, predict_model"
   ]
  },
  {
   "cell_type": "code",
   "execution_count": 13,
   "metadata": {
    "collapsed": false
   },
   "outputs": [
    {
     "name": "stdout",
     "output_type": "stream",
     "text": [
      "47/47 [==============================] - 90s 2s/step - loss: 4.8984 - accuracy: 0.0809 - val_loss: 5.4750 - val_accuracy: 0.0035\n"
     ]
    }
   ],
   "source": [
    "feature_model, predict_model = load_model_stm_new(train_generator,val_generator)"
   ]
  },
  {
   "cell_type": "code",
   "execution_count": 105,
   "metadata": {
    "collapsed": true
   },
   "outputs": [],
   "source": [
    "def new_train_generator(seed,percentage,df,org_datasetsize,repetition=30):\n",
    "    np.random.seed(seed)\n",
    "    indices = np.random.choice(org_datasetsize, size=int(percentage*org_datasetsize), replace=False)\n",
    "    augmented_indices = indices.repeat(repetition)*repetition+np.tile(np.arange(repetition),len(indices))\n",
    "    train_generator =train_datagen.flow_from_dataframe(dataframe=df,\n",
    "        directory=train_directory,\n",
    "        x_col=\"x_col\",\n",
    "        y_col=\"y_col\",\n",
    "        target_size=(224,224),\n",
    "        color_mode='rgb',\n",
    "        shuffle=True,\n",
    "        seed=seed,\n",
    "        class_mode='sparse',batch_size=batch_size,\n",
    "    )\n",
    "    return train_generator, indices"
   ]
  },
  {
   "cell_type": "code",
   "execution_count": 114,
   "metadata": {
    "collapsed": false
   },
   "outputs": [
    {
     "data": {
      "text/plain": [
       "keras_preprocessing.image.dataframe_iterator.DataFrameIterator"
      ]
     },
     "execution_count": 114,
     "metadata": {},
     "output_type": "execute_result"
    }
   ],
   "source": [
    "type(train_generator)"
   ]
  },
  {
   "cell_type": "code",
   "execution_count": 113,
   "metadata": {
    "collapsed": false
   },
   "outputs": [
    {
     "name": "stdout",
     "output_type": "stream",
     "text": [
      "Found 179820 validated image filenames belonging to 200 classes.\n"
     ]
    }
   ],
   "source": [
    "train_generator, indeces = new_train_generator(seed,percentage,df,org_datasetsize=len(org_df),repetition=30)"
   ]
  },
  {
   "cell_type": "code",
   "execution_count": 204,
   "metadata": {
    "collapsed": false
   },
   "outputs": [
    {
     "name": "stdout",
     "output_type": "stream",
     "text": [
      "Epoch 1/10\n",
      "1405/1405 [==============================] - 766s 545ms/step - loss: 0.5133 - accuracy: 0.9124 - val_loss: 1.0143 - val_accuracy: 0.7558\n",
      "Epoch 2/10\n",
      "1405/1405 [==============================] - 700s 498ms/step - loss: 0.0171 - accuracy: 0.9974 - val_loss: 1.1447 - val_accuracy: 0.7318\n",
      "Epoch 3/10\n",
      "1405/1405 [==============================] - 701s 499ms/step - loss: 0.0163 - accuracy: 0.9970 - val_loss: 1.3336 - val_accuracy: 0.7097\n",
      "Epoch 4/10\n",
      "1405/1405 [==============================] - 699s 498ms/step - loss: 0.0151 - accuracy: 0.9969 - val_loss: 1.2771 - val_accuracy: 0.7278\n",
      "Epoch 5/10\n",
      "1405/1405 [==============================] - 699s 498ms/step - loss: 0.0112 - accuracy: 0.9976 - val_loss: 1.2412 - val_accuracy: 0.7366\n",
      "Epoch 6/10\n",
      "1405/1405 [==============================] - 700s 498ms/step - loss: 0.0101 - accuracy: 0.9977 - val_loss: 1.4129 - val_accuracy: 0.7075\n",
      "Epoch 7/10\n",
      "1405/1405 [==============================] - 698s 497ms/step - loss: 0.0095 - accuracy: 0.9978 - val_loss: 1.3400 - val_accuracy: 0.7340\n",
      "Epoch 8/10\n",
      "1405/1405 [==============================] - 698s 497ms/step - loss: 0.0094 - accuracy: 0.9977 - val_loss: 1.4059 - val_accuracy: 0.7292\n",
      "Epoch 9/10\n",
      "1405/1405 [==============================] - 699s 498ms/step - loss: 0.0073 - accuracy: 0.9984 - val_loss: 1.3764 - val_accuracy: 0.7308\n",
      "Epoch 10/10\n",
      "1405/1405 [==============================] - 699s 498ms/step - loss: 0.0070 - accuracy: 0.9982 - val_loss: 1.3630 - val_accuracy: 0.7384\n"
     ]
    }
   ],
   "source": [
    "feature_model, predict_model = load_model_stm_new(train_generator,val_generator)"
   ]
  },
  {
   "cell_type": "code",
   "execution_count": 131,
   "metadata": {
    "collapsed": false
   },
   "outputs": [
    {
     "data": {
      "text/plain": [
       "1405"
      ]
     },
     "execution_count": 131,
     "metadata": {},
     "output_type": "execute_result"
    }
   ],
   "source": [
    "len(train_generator)"
   ]
  },
  {
   "cell_type": "code",
   "execution_count": 136,
   "metadata": {
    "collapsed": false
   },
   "outputs": [
    {
     "name": "stdout",
     "output_type": "stream",
     "text": [
      "1, 2, 3, 4, 5, 6, 7, 8, 9, 10, 11, 12, 13, 14, 15, 16, 17, 18, 19, 20, 21, 22, 23, 24, 25, 26, 27, 28, 29, 30, 31, 32, 33, 34, 35, 36, 37, 38, 39, 40, 41, 42, 43, 44, 45, 46, 47, 48, 49, 50, 51, 52, 53, 54, 55, 56, 57, 58, 59, 60, 61, 62, 63, 64, 65, 66, 67, 68, 69, 70, 71, 72, 73, 74, 75, 76, 77, 78, 79, 80, 81, 82, 83, 84, 85, 86, 87, 88, 89, 90, 91, 92, 93, 94, 95, 96, 97, 98, 99, 100, 101, 102, 103, 104, 105, 106, 107, 108, 109, 110, 111, 112, 113, 114, 115, 116, 117, 118, 119, 120, 121, 122, 123, 124, 125, 126, 127, 128, 129, 130, 131, 132, 133, 134, 135, 136, 137, 138, 139, 140, 141, 142, 143, 144, 145, 146, 147, 148, 149, 150, 151, 152, 153, 154, 155, 156, 157, 158, 159, 160, 161, 162, 163, 164, 165, 166, 167, 168, 169, 170, 171, 172, 173, 174, 175, 176, 177, 178, 179, 180, 181, 182, 183, 184, 185, 186, 187, 188, 189, 190, 191, 192, 193, 194, 195, 196, 197, 198, 199, 200, 201, 202, 203, 204, 205, 206, 207, 208, 209, 210, 211, 212, 213, 214, 215, 216, 217, 218, 219, 220, 221, 222, 223, 224, 225, 226, 227, 228, 229, 230, 231, 232, 233, 234, 235, 236, 237, 238, 239, 240, 241, 242, 243, 244, 245, 246, 247, 248, 249, 250, 251, 252, 253, 254, 255, 256, 257, 258, 259, 260, 261, 262, 263, 264, 265, 266, 267, 268, 269, 270, 271, 272, 273, 274, 275, 276, 277, 278, 279, 280, 281, 282, 283, 284, 285, 286, 287, 288, 289, 290, 291, 292, 293, 294, 295, 296, 297, 298, 299, 300, 301, 302, 303, 304, 305, 306, 307, 308, 309, 310, 311, 312, 313, 314, 315, 316, 317, 318, 319, 320, 321, 322, 323, 324, 325, 326, 327, 328, 329, 330, 331, 332, 333, 334, 335, 336, 337, 338, 339, 340, 341, 342, 343, 344, 345, 346, 347, 348, 349, 350, 351, 352, 353, 354, 355, 356, 357, 358, 359, 360, 361, 362, 363, 364, 365, 366, 367, 368, 369, 370, 371, 372, 373, 374, 375, 376, 377, 378, 379, 380, 381, 382, 383, 384, 385, 386, 387, 388, 389, 390, 391, 392, 393, 394, 395, 396, 397, 398, 399, 400, 401, 402, 403, 404, 405, 406, 407, 408, 409, 410, 411, 412, 413, 414, 415, 416, 417, 418, 419, 420, 421, 422, 423, 424, 425, 426, 427, 428, 429, 430, 431, 432, 433, 434, 435, 436, 437, 438, 439, 440, 441, 442, 443, 444, 445, 446, 447, 448, 449, 450, 451, 452, 453, 454, 455, 456, 457, 458, 459, 460, 461, 462, 463, 464, 465, 466, 467, 468, 469, 470, 471, 472, 473, 474, 475, 476, 477, 478, 479, 480, 481, 482, 483, 484, 485, 486, 487, 488, 489, 490, 491, 492, 493, 494, 495, 496, 497, 498, 499, 500, 501, 502, 503, 504, 505, 506, 507, 508, 509, 510, 511, 512, 513, 514, 515, 516, 517, 518, 519, 520, 521, 522, 523, 524, 525, 526, 527, 528, 529, 530, 531, 532, 533, 534, 535, 536, 537, 538, 539, 540, 541, 542, 543, 544, 545, 546, 547, 548, 549, 550, 551, 552, 553, 554, 555, 556, 557, 558, 559, 560, 561, 562, 563, 564, 565, 566, 567, 568, 569, 570, 571, 572, 573, 574, 575, 576, 577, 578, 579, 580, 581, 582, 583, 584, 585, 586, 587, 588, 589, 590, 591, 592, 593, 594, 595, 596, 597, 598, 599, 600, 601, 602, 603, 604, 605, 606, 607, 608, 609, 610, 611, 612, 613, 614, 615, 616, 617, 618, 619, 620, 621, 622, 623, 624, 625, 626, 627, 628, 629, 630, 631, 632, 633, 634, 635, 636, 637, 638, 639, 640, 641, 642, 643, 644, 645, 646, 647, 648, 649, 650, 651, 652, 653, 654, 655, 656, 657, 658, 659, 660, 661, 662, 663, 664, 665, 666, 667, 668, 669, 670, 671, 672, 673, 674, 675, 676, 677, 678, 679, 680, 681, 682, 683, 684, 685, 686, 687, 688, 689, 690, 691, 692, 693, 694, 695, 696, 697, 698, 699, 700, 701, 702, 703, 704, 705, 706, 707, 708, 709, 710, 711, 712, 713, 714, 715, 716, 717, 718, 719, 720, 721, 722, 723, 724, 725, 726, 727, 728, 729, 730, 731, 732, 733, 734, 735, 736, 737, 738, 739, 740, 741, 742, 743, 744, 745, 746, 747, 748, 749, 750, 751, 752, 753, 754, 755, 756, 757, 758, 759, 760, 761, 762, 763, 764, 765, 766, 767, 768, 769, 770, 771, 772, 773, 774, 775, 776, 777, 778, 779, 780, 781, 782, 783, 784, 785, 786, 787, 788, 789, 790, 791, 792, 793, 794, 795, 796, 797, 798, 799, 800, 801, 802, 803, 804, 805, 806, 807, 808, 809, 810, 811, 812, 813, 814, 815, 816, 817, 818, 819, 820, 821, 822, 823, 824, 825, 826, 827, 828, 829, 830, 831, 832, 833, 834, 835, 836, 837, 838, 839, 840, 841, 842, 843, 844, 845, 846, 847, 848, 849, 850, 851, 852, 853, 854, 855, 856, 857, 858, 859, 860, 861, 862, 863, 864, 865, 866, 867, 868, 869, 870, 871, 872, 873, 874, 875, 876, 877, 878, 879, 880, 881, 882, 883, 884, 885, 886, 887, 888, 889, 890, 891, 892, 893, 894, 895, 896, 897, 898, 899, 900, 901, 902, 903, 904, 905, 906, 907, 908, 909, 910, 911, 912, 913, 914, 915, 916, 917, 918, 919, 920, 921, 922, 923, 924, 925, 926, 927, 928, 929, 930, 931, 932, 933, 934, 935, 936, 937, 938, 939, 940, 941, 942, 943, 944, 945, 946, 947, 948, 949, 950, 951, 952, 953, 954, 955, 956, 957, 958, 959, 960, 961, 962, 963, 964, 965, 966, 967, 968, 969, 970, 971, 972, 973, 974, 975, 976, 977, 978, 979, 980, 981, 982, 983, 984, 985, 986, 987, 988, 989, 990, 991, 992, 993, 994, 995, 996, 997, 998, 999, 1000, 1001, 1002, 1003, 1004, 1005, 1006, 1007, 1008, 1009, 1010, 1011, 1012, 1013, 1014, 1015, 1016, 1017, 1018, 1019, 1020, 1021, 1022, 1023, 1024, 1025, 1026, 1027, 1028, 1029, 1030, 1031, 1032, 1033, 1034, 1035, 1036, 1037, 1038, 1039, 1040, 1041, 1042, 1043, 1044, 1045, 1046, 1047, 1048, 1049, 1050, 1051, 1052, 1053, 1054, 1055, 1056, 1057, 1058, 1059, 1060, 1061, 1062, 1063, 1064, 1065, 1066, 1067, 1068, 1069, 1070, 1071, 1072, 1073, 1074, 1075, 1076, 1077, 1078, 1079, 1080, 1081, 1082, 1083, 1084, 1085, 1086, 1087, 1088, 1089, 1090, 1091, 1092, 1093, 1094, 1095, 1096, 1097, 1098, 1099, 1100, 1101, 1102, 1103, 1104, 1105, 1106, 1107, 1108, 1109, 1110, 1111, 1112, 1113, 1114, 1115, 1116, 1117, 1118, 1119, 1120, 1121, 1122, 1123, 1124, 1125, 1126, 1127, 1128, 1129, 1130, 1131, 1132, 1133, 1134, 1135, 1136, 1137, 1138, 1139, 1140, 1141, 1142, 1143, 1144, 1145, 1146, 1147, 1148, 1149, 1150, 1151, 1152, 1153, 1154, 1155, 1156, 1157, 1158, 1159, 1160, 1161, 1162, 1163, 1164, 1165, 1166, 1167, 1168, 1169, 1170, 1171, 1172, 1173, 1174, 1175, 1176, 1177, 1178, 1179, 1180, 1181, 1182, 1183, 1184, 1185, 1186, 1187, 1188, 1189, 1190, 1191, 1192, 1193, 1194, 1195, 1196, 1197, 1198, 1199, 1200, 1201, 1202, 1203, 1204, 1205, 1206, 1207, 1208, 1209, 1210, 1211, 1212, 1213, 1214, 1215, 1216, 1217, 1218, 1219, 1220, 1221, 1222, 1223, 1224, 1225, 1226, 1227, 1228, 1229, 1230, 1231, 1232, 1233, 1234, 1235, 1236, 1237, 1238, 1239, 1240, 1241, 1242, 1243, 1244, 1245, 1246, 1247, 1248, 1249, 1250, 1251, 1252, 1253, 1254, 1255, 1256, 1257, 1258, 1259, 1260, 1261, 1262, 1263, 1264, 1265, 1266, 1267, 1268, 1269, 1270, 1271, 1272, 1273, 1274, 1275, 1276, 1277, 1278, 1279, 1280, 1281, 1282, 1283, 1284, 1285, 1286, 1287, 1288, 1289, 1290, 1291, 1292, 1293, 1294, 1295, 1296, 1297, 1298, 1299, 1300, 1301, 1302, 1303, 1304, 1305, 1306, 1307, 1308, 1309, 1310, 1311, 1312, 1313, 1314, 1315, 1316, 1317, 1318, 1319, 1320, 1321, 1322, 1323, 1324, 1325, 1326, 1327, 1328, 1329, 1330, 1331, 1332, 1333, 1334, 1335, 1336, 1337, 1338, 1339, 1340, 1341, 1342, 1343, 1344, 1345, 1346, 1347, 1348, 1349, 1350, 1351, 1352, 1353, 1354, 1355, 1356, 1357, 1358, 1359, 1360, 1361, 1362, 1363, 1364, 1365, 1366, 1367, 1368, 1369, 1370, 1371, 1372, 1373, 1374, 1375, 1376, 1377, 1378, 1379, 1380, 1381, 1382, 1383, 1384, 1385, 1386, 1387, 1388, 1389, 1390, 1391, 1392, 1393, 1394, 1395, 1396, 1397, 1398, 1399, 1400, 1401, 1402, 1403, 1404, 1405, "
     ]
    }
   ],
   "source": [
    "batches = 0 \n",
    "f_train = []\n",
    "f_train_y = []\n",
    "for x_batch, y_batch in train_generator:\n",
    "    f_train_batch = feature_model.predict(x_batch)\n",
    "    f_train.append(f_train_batch)\n",
    "    f_train_y.append(y_batch)\n",
    "    batches += 1\n",
    "    print(batches, end=', ')\n",
    "    if batches >= len(train_generator):\n",
    "        # we need to break the loop by hand because\n",
    "        # the generator loops indefinitely\n",
    "        break\n",
    "f_train = np.concatenate(f_train)\n",
    "f_train_y = np.concatenate(f_train_y)"
   ]
  },
  {
   "cell_type": "code",
   "execution_count": 149,
   "metadata": {
    "collapsed": false
   },
   "outputs": [
    {
     "name": "stdout",
     "output_type": "stream",
     "text": [
      "1, 2, 3, 4, 5, 6, 7, 8, 9, 10, 11, 12, 13, 14, 15, 16, 17, 18, 19, 20, 21, 22, 23, 24, 25, 26, 27, 28, 29, 30, 31, 32, 33, 34, 35, 36, 37, 38, 39, 40, 41, 42, 43, 44, 45, 46, "
     ]
    }
   ],
   "source": [
    "batches = 0 \n",
    "f_val = []\n",
    "f_val_y = []\n",
    "for x_batch, y_batch in val_generator:\n",
    "    f_batch = feature_model.predict(x_batch)\n",
    "    f_val.append(f_batch)\n",
    "    f_val_y.append(y_batch)\n",
    "    batches += 1\n",
    "    print(batches, end=', ')\n",
    "    if batches >= len(val_generator):\n",
    "        # we need to break the loop by hand because\n",
    "        # the generator loops indefinitely\n",
    "        break\n",
    "f_val = np.concatenate(f_val)\n",
    "f_val_y = np.concatenate(f_val_y)"
   ]
  },
  {
   "cell_type": "code",
   "execution_count": 116,
   "metadata": {
    "collapsed": false
   },
   "outputs": [
    {
     "ename": "NameError",
     "evalue": "name 'x_test' is not defined",
     "output_type": "error",
     "traceback": [
      "\u001b[0;31m---------------------------------------------------------------------------\u001b[0m",
      "\u001b[0;31mNameError\u001b[0m                                 Traceback (most recent call last)",
      "\u001b[0;32m<ipython-input-116-cb1e274920ef>\u001b[0m in \u001b[0;36m<module>\u001b[0;34m\u001b[0m\n\u001b[1;32m      1\u001b[0m \u001b[0mf_train\u001b[0m \u001b[0;34m=\u001b[0m \u001b[0mfeature_model\u001b[0m\u001b[0;34m.\u001b[0m\u001b[0mpredict\u001b[0m\u001b[0;34m(\u001b[0m\u001b[0mtrain_generator\u001b[0m\u001b[0;34m)\u001b[0m\u001b[0;34m\u001b[0m\u001b[0m\n\u001b[0;32m----> 2\u001b[0;31m \u001b[0mf_val\u001b[0m \u001b[0;34m=\u001b[0m \u001b[0mfeature_model\u001b[0m\u001b[0;34m.\u001b[0m\u001b[0mpredict\u001b[0m\u001b[0;34m(\u001b[0m\u001b[0mx_test\u001b[0m\u001b[0;34m)\u001b[0m\u001b[0;34m\u001b[0m\u001b[0m\n\u001b[0m\u001b[1;32m      3\u001b[0m \u001b[0mprint\u001b[0m\u001b[0;34m(\u001b[0m\u001b[0mf_train\u001b[0m\u001b[0;34m.\u001b[0m\u001b[0mshape\u001b[0m\u001b[0;34m)\u001b[0m\u001b[0;34m\u001b[0m\u001b[0m\n\u001b[1;32m      4\u001b[0m \u001b[0mN\u001b[0m \u001b[0;34m=\u001b[0m \u001b[0mf_train\u001b[0m\u001b[0;34m.\u001b[0m\u001b[0mshape\u001b[0m\u001b[0;34m[\u001b[0m\u001b[0;36m0\u001b[0m\u001b[0;34m]\u001b[0m\u001b[0;34m\u001b[0m\u001b[0m\n\u001b[1;32m      5\u001b[0m \u001b[0mtrained\u001b[0m \u001b[0;34m=\u001b[0m \u001b[0;32mFalse\u001b[0m\u001b[0;34m\u001b[0m\u001b[0m\n",
      "\u001b[0;31mNameError\u001b[0m: name 'x_test' is not defined"
     ]
    }
   ],
   "source": [
    "#f_train = feature_model.predict(train_generator)\n",
    "#f_val = feature_model.predict(val_generator)\n",
    "print(f_train.shape)\n",
    "N = f_train.shape[0]\n",
    "trained = False"
   ]
  },
  {
   "cell_type": "code",
   "execution_count": 121,
   "metadata": {
    "collapsed": false
   },
   "outputs": [],
   "source": [
    "init = keras.initializers.RandomUniform(minval=-0.5, maxval=0.5, seed=None)\n",
    "\n",
    "class Weight(Layer):\n",
    "    \"\"\"Simple Weight class.\"\"\"\n",
    "\n",
    "    def __init__(self, dim, **kwargs):\n",
    "        self.dim = dim\n",
    "        super(Weight, self).__init__(**kwargs)\n",
    "\n",
    "    def build(self, input_shape):\n",
    "        # creates a trainable weight variable for this layer.\n",
    "        self.kernel = self.add_weight(\n",
    "            name='proj', shape=self.dim, initializer=init, trainable=True)\n",
    "        super(Weight, self).build(input_shape)\n",
    "\n",
    "    def call(self, x):\n",
    "        return self.kernel\n",
    "\n",
    "    def compute_output_shape(self, input_shape):\n",
    "        return self.dim"
   ]
  },
  {
   "cell_type": "code",
   "execution_count": 122,
   "metadata": {
    "collapsed": true
   },
   "outputs": [],
   "source": [
    "def mean_sim(topic_prob_n,n_concept):\n",
    "  \"\"\"creates loss for topic model\"\"\"\n",
    "  def loss(y_true, y_pred):\n",
    "    return 1*tf.reduce_mean(input_tensor=tf.nn.top_k(K.transpose(K.reshape(topic_prob_n,(-1,n_concept))),k=32,sorted=True).values)\n",
    "  return loss"
   ]
  },
  {
   "cell_type": "code",
   "execution_count": 184,
   "metadata": {
    "collapsed": false
   },
   "outputs": [],
   "source": [
    "def topic_model_new_MNIST(predict,\n",
    "           f_train,\n",
    "           n_concept,\n",
    "           verbose=False,\n",
    "           metric1=['accuracy'],\n",
    "           opt='adam',\n",
    "           loss1=tf.keras.losses.sparse_categorical_crossentropy,\n",
    "           thres=0.0,\n",
    "           load=False):\n",
    "    \"\"\"Returns main function of topic model.\"\"\"\n",
    "\n",
    "\n",
    "    f_input = Input(shape=(f_train.shape[1],f_train.shape[2],f_train.shape[3]), name='f_input')\n",
    "    f_input_n =  Lambda(lambda x:K.l2_normalize(x,axis=(3)))(f_input)\n",
    "\n",
    "    topic_vector = Weight((f_train.shape[3], n_concept))(f_input)\n",
    "    topic_vector_n = Lambda(lambda x: K.l2_normalize(x, axis=0))(topic_vector)\n",
    "    topic_prob = Lambda(lambda x:K.dot(x[0],x[1]))([f_input, topic_vector_n])\n",
    "    topic_prob_n = Lambda(lambda x:K.dot(x[0],x[1]))([f_input_n, topic_vector_n])\n",
    "    topic_prob_mask = Lambda(lambda x:K.cast(K.greater(x,thres),'float32'))(topic_prob_n)\n",
    "    topic_prob_am = Lambda(lambda x:x[0]*x[1])([topic_prob,topic_prob_mask])\n",
    "    topic_prob_sum = Lambda(lambda x: K.sum(x, axis=3, keepdims=True)+1e-3)(topic_prob_am)\n",
    "    topic_prob_nn = Lambda(lambda x: x[0]/x[1])([topic_prob_am, topic_prob_sum])\n",
    "\n",
    "    rec_vector_1 = Weight((n_concept, 500))(f_input)\n",
    "    rec_vector_2 = Weight((500, f_train.shape[3]))(f_input)\n",
    "    rec_layer_1 = Lambda(lambda x:K.relu(K.dot(x[0],x[1])))([topic_prob_nn, rec_vector_1])\n",
    "    rec_layer_2 = Lambda(lambda x:K.dot(x[0],x[1]))([rec_layer_1, rec_vector_2])\n",
    "    pred = predict(rec_layer_2)\n",
    "    topic_model_pr = Model(inputs=f_input, outputs=pred)\n",
    "    topic_model_pr.layers[-1].trainable = False\n",
    "    if opt =='sgd':\n",
    "        optimizer = SGD(lr=0.001)\n",
    "        optimizer_state = [optimizer.iterations, optimizer.lr,\n",
    "              optimizer.momentum, optimizer.decay]\n",
    "        optimizer_reset = tf.compat.v1.variables_initializer(optimizer_state)\n",
    "    elif opt =='adam':\n",
    "        optimizer = Adam(lr=0.001)\n",
    "        optimizer_state = [optimizer.iterations, optimizer.lr, optimizer.beta_1,\n",
    "                                 optimizer.beta_2, optimizer.decay]\n",
    "        optimizer_reset = tf.compat.v1.variables_initializer(optimizer_state)\n",
    "    metric1.append(mean_sim(topic_prob_n, n_concept))\n",
    "    topic_model_pr.compile(\n",
    "      loss=topic_loss_MNIST(topic_prob_n, topic_vector_n,  n_concept, f_input, loss1=loss1),\n",
    "      optimizer=optimizer,metrics=metric1)\n",
    "    print(topic_model_pr.summary())\n",
    "    if load:\n",
    "        topic_model_pr.load_weights(load)\n",
    "    return topic_model_pr, optimizer_reset, optimizer, topic_vector_n,  n_concept, f_input"
   ]
  },
  {
   "cell_type": "code",
   "execution_count": 185,
   "metadata": {
    "collapsed": true
   },
   "outputs": [],
   "source": [
    "def topic_loss_MNIST(topic_prob_n, topic_vector_n, n_concept, f_input, loss1):\n",
    "  \"\"\"creates loss for topic model\"\"\"\n",
    "  def loss(y_true, y_pred):\n",
    "    return (1.0*tf.reduce_mean(input_tensor=loss1(y_true, y_pred))\\\n",
    "            - 0.1*tf.reduce_mean(input_tensor=(tf.nn.top_k(K.transpose(K.reshape(topic_prob_n,(-1,n_concept))),k=32,sorted=True).values))\n",
    "            + 0.1*tf.reduce_mean(input_tensor=(K.dot(K.transpose(topic_vector_n), topic_vector_n) - np.eye(n_concept)))\n",
    "            )\n",
    "  return loss"
   ]
  },
  {
   "cell_type": "code",
   "execution_count": 199,
   "metadata": {
    "collapsed": false
   },
   "outputs": [
    {
     "name": "stdout",
     "output_type": "stream",
     "text": [
      "Model: \"model_7\"\n",
      "__________________________________________________________________________________________________\n",
      "Layer (type)                    Output Shape         Param #     Connected to                     \n",
      "==================================================================================================\n",
      "f_input (InputLayer)            [(None, 1, 1, 512)]  0                                            \n",
      "__________________________________________________________________________________________________\n",
      "weight_21 (Weight)              (512, 100)           51200       f_input[0][0]                    \n",
      "__________________________________________________________________________________________________\n",
      "lambda_71 (Lambda)              (512, 100)           0           weight_21[0][0]                  \n",
      "__________________________________________________________________________________________________\n",
      "lambda_70 (Lambda)              (None, 1, 1, 512)    0           f_input[0][0]                    \n",
      "__________________________________________________________________________________________________\n",
      "lambda_73 (Lambda)              (None, 1, 1, 100)    0           lambda_70[0][0]                  \n",
      "                                                                 lambda_71[0][0]                  \n",
      "__________________________________________________________________________________________________\n",
      "lambda_72 (Lambda)              (None, 1, 1, 100)    0           f_input[0][0]                    \n",
      "                                                                 lambda_71[0][0]                  \n",
      "__________________________________________________________________________________________________\n",
      "lambda_74 (Lambda)              (None, 1, 1, 100)    0           lambda_73[0][0]                  \n",
      "__________________________________________________________________________________________________\n",
      "lambda_75 (Lambda)              (None, 1, 1, 100)    0           lambda_72[0][0]                  \n",
      "                                                                 lambda_74[0][0]                  \n",
      "__________________________________________________________________________________________________\n",
      "lambda_76 (Lambda)              (None, 1, 1, 1)      0           lambda_75[0][0]                  \n",
      "__________________________________________________________________________________________________\n",
      "lambda_77 (Lambda)              (None, 1, 1, 100)    0           lambda_75[0][0]                  \n",
      "                                                                 lambda_76[0][0]                  \n",
      "__________________________________________________________________________________________________\n",
      "weight_22 (Weight)              (100, 500)           50000       f_input[0][0]                    \n",
      "__________________________________________________________________________________________________\n",
      "lambda_78 (Lambda)              (None, 1, 1, 500)    0           lambda_77[0][0]                  \n",
      "                                                                 weight_22[0][0]                  \n",
      "__________________________________________________________________________________________________\n",
      "weight_23 (Weight)              (500, 512)           256000      f_input[0][0]                    \n",
      "__________________________________________________________________________________________________\n",
      "lambda_79 (Lambda)              (None, 1, 1, 512)    0           lambda_78[0][0]                  \n",
      "                                                                 weight_23[0][0]                  \n",
      "__________________________________________________________________________________________________\n",
      "sequential_5 (Sequential)       (None, 200)          102600      lambda_79[0][0]                  \n",
      "==================================================================================================\n",
      "Total params: 459,800\n",
      "Trainable params: 357,200\n",
      "Non-trainable params: 102,600\n",
      "__________________________________________________________________________________________________\n",
      "None\n"
     ]
    }
   ],
   "source": [
    "topic_model_pr, optimizer_reset, optimizer, \\\n",
    "  topic_vector,  n_concept, f_input = topic_model_new_MNIST(predict_model,\n",
    "                                f_train,\n",
    "                                n_concept,\n",
    "                                verbose=verbose,\n",
    "                                metric1=['accuracy'],\n",
    "                                loss1=tf.keras.losses.sparse_categorical_crossentropy,\n",
    "                                thres=0.2,\n",
    "                                load=False)"
   ]
  },
  {
   "cell_type": "code",
   "execution_count": 200,
   "metadata": {
    "collapsed": false
   },
   "outputs": [
    {
     "name": "stdout",
     "output_type": "stream",
     "text": [
      "Train on 179820 samples, validate on 5794 samples\n",
      "Epoch 1/10\n",
      "179820/179820 - 13s - loss: 2.5031 - accuracy: 0.0043 - loss_1: 0.1480 - val_loss: 2.8814 - val_accuracy: 0.0054 - val_loss_1: 0.1495\n",
      "Epoch 2/10\n",
      "179820/179820 - 8s - loss: 1.2195 - accuracy: 0.0053 - loss_1: 0.1463 - val_loss: 2.5992 - val_accuracy: 0.0067 - val_loss_1: 0.1458\n",
      "Epoch 3/10\n",
      "179820/179820 - 9s - loss: 0.7926 - accuracy: 0.0046 - loss_1: 0.1448 - val_loss: 2.4428 - val_accuracy: 0.0019 - val_loss_1: 0.1464\n",
      "Epoch 4/10\n",
      "179820/179820 - 9s - loss: 0.5711 - accuracy: 0.0048 - loss_1: 0.1457 - val_loss: 2.4659 - val_accuracy: 0.0076 - val_loss_1: 0.1472\n",
      "Epoch 5/10\n",
      "179820/179820 - 8s - loss: 0.4151 - accuracy: 0.0051 - loss_1: 0.1474 - val_loss: 2.3855 - val_accuracy: 0.0024 - val_loss_1: 0.1486\n",
      "Epoch 6/10\n",
      "179820/179820 - 9s - loss: 0.3282 - accuracy: 0.0057 - loss_1: 0.1492 - val_loss: 2.3488 - val_accuracy: 0.0026 - val_loss_1: 0.1514\n",
      "Epoch 7/10\n",
      "179820/179820 - 10s - loss: 0.2356 - accuracy: 0.0054 - loss_1: 0.1517 - val_loss: 2.3096 - val_accuracy: 0.0038 - val_loss_1: 0.1530\n",
      "Epoch 8/10\n",
      "179820/179820 - 8s - loss: 0.1639 - accuracy: 0.0048 - loss_1: 0.1541 - val_loss: 2.1649 - val_accuracy: 0.0031 - val_loss_1: 0.1563\n",
      "Epoch 9/10\n",
      "179820/179820 - 9s - loss: 0.1127 - accuracy: 0.0049 - loss_1: 0.1561 - val_loss: 2.2032 - val_accuracy: 0.0038 - val_loss_1: 0.1573\n",
      "Epoch 10/10\n",
      "179820/179820 - 10s - loss: 0.0750 - accuracy: 0.0049 - loss_1: 0.1588 - val_loss: 2.0852 - val_accuracy: 0.0035 - val_loss_1: 0.1608\n"
     ]
    },
    {
     "data": {
      "text/plain": [
       "<tensorflow.python.keras.callbacks.History at 0x7f5811aca048>"
      ]
     },
     "execution_count": 200,
     "metadata": {},
     "output_type": "execute_result"
    }
   ],
   "source": [
    "topic_model_pr.fit(\n",
    "  f_train,\n",
    "  f_train_y,\n",
    "  batch_size=batch_size,\n",
    "  epochs=10,   validation_data=(f_val, f_val_y),\n",
    "  verbose=verbose)"
   ]
  },
  {
   "cell_type": "code",
   "execution_count": 201,
   "metadata": {
    "collapsed": false
   },
   "outputs": [],
   "source": [
    "predict = topic_model_pr.predict(f_train)"
   ]
  },
  {
   "cell_type": "code",
   "execution_count": 202,
   "metadata": {
    "collapsed": false
   },
   "outputs": [
    {
     "data": {
      "text/plain": [
       "array([[4.85529794e-09, 7.80663569e-08, 9.57543045e-10, ...,\n",
       "        2.31368353e-12, 1.57738906e-08, 2.30142181e-08],\n",
       "       [1.45805528e-08, 1.26628962e-07, 1.35215288e-07, ...,\n",
       "        1.20930537e-08, 7.59026250e-07, 3.99373846e-07],\n",
       "       [5.64636915e-09, 1.85812507e-06, 2.08695241e-07, ...,\n",
       "        1.10715144e-08, 1.94706598e-08, 1.32762101e-09],\n",
       "       ...,\n",
       "       [2.30431397e-07, 5.52409915e-07, 3.36886751e-06, ...,\n",
       "        4.99745420e-06, 1.12730945e-08, 1.42389547e-06],\n",
       "       [2.98806396e-10, 7.73489398e-11, 1.02696246e-11, ...,\n",
       "        5.64056406e-11, 3.51311580e-12, 1.02430581e-11],\n",
       "       [6.89803825e-10, 3.02831482e-10, 2.90561752e-09, ...,\n",
       "        1.62728209e-09, 2.52986604e-10, 2.49877719e-09]], dtype=float32)"
      ]
     },
     "execution_count": 202,
     "metadata": {},
     "output_type": "execute_result"
    }
   ],
   "source": [
    "predict"
   ]
  },
  {
   "cell_type": "code",
   "execution_count": 194,
   "metadata": {
    "collapsed": false
   },
   "outputs": [
    {
     "data": {
      "text/plain": [
       "array([ 69.,  46.,  79., ...,  20.,  60., 116.], dtype=float32)"
      ]
     },
     "execution_count": 194,
     "metadata": {},
     "output_type": "execute_result"
    }
   ],
   "source": [
    "f_train_y"
   ]
  },
  {
   "cell_type": "code",
   "execution_count": 192,
   "metadata": {
    "collapsed": false
   },
   "outputs": [
    {
     "data": {
      "text/plain": [
       "0.9818040262484707"
      ]
     },
     "execution_count": 192,
     "metadata": {},
     "output_type": "execute_result"
    }
   ],
   "source": [
    "(np.argmax(predict,axis=1) == f_train_y).mean()"
   ]
  },
  {
   "cell_type": "code",
   "execution_count": 172,
   "metadata": {
    "collapsed": true
   },
   "outputs": [],
   "source": [
    "predict_val = topic_model_pr.predict(f_val)"
   ]
  },
  {
   "cell_type": "code",
   "execution_count": 177,
   "metadata": {
    "collapsed": false
   },
   "outputs": [
    {
     "data": {
      "text/plain": [
       "array([ 60.,  31., 155., ..., 160.,  67., 194.], dtype=float32)"
      ]
     },
     "execution_count": 177,
     "metadata": {},
     "output_type": "execute_result"
    }
   ],
   "source": [
    "f_val_y"
   ]
  },
  {
   "cell_type": "code",
   "execution_count": 179,
   "metadata": {
    "collapsed": false
   },
   "outputs": [
    {
     "name": "stdout",
     "output_type": "stream",
     "text": [
      "5568/5794 [===========================>..] - ETA: 0s - loss: 1.7942 - categorical_accuracy: 0.0048 - loss_1: 0.1145"
     ]
    },
    {
     "ename": "InvalidArgumentError",
     "evalue": "2 root error(s) found.\n  (0) Invalid argument: input must have at least k columns. Had 2, needed 32\n\t [[{{node loss_7/sequential_5_loss/TopKV2}}]]\n\t [[metrics_14/loss_1/Identity/_12337]]\n  (1) Invalid argument: input must have at least k columns. Had 2, needed 32\n\t [[{{node loss_7/sequential_5_loss/TopKV2}}]]\n0 successful operations.\n0 derived errors ignored.",
     "output_type": "error",
     "traceback": [
      "\u001b[0;31m---------------------------------------------------------------------------\u001b[0m",
      "\u001b[0;31mInvalidArgumentError\u001b[0m                      Traceback (most recent call last)",
      "\u001b[0;32m<ipython-input-179-3fefd5c74fb2>\u001b[0m in \u001b[0;36m<module>\u001b[0;34m\u001b[0m\n\u001b[0;32m----> 1\u001b[0;31m \u001b[0mtopic_model_pr\u001b[0m\u001b[0;34m.\u001b[0m\u001b[0mevaluate\u001b[0m\u001b[0;34m(\u001b[0m\u001b[0mf_val\u001b[0m\u001b[0;34m,\u001b[0m\u001b[0mf_val_y\u001b[0m\u001b[0;34m.\u001b[0m\u001b[0mastype\u001b[0m\u001b[0;34m(\u001b[0m\u001b[0mint\u001b[0m\u001b[0;34m)\u001b[0m\u001b[0;34m)\u001b[0m\u001b[0;34m\u001b[0m\u001b[0m\n\u001b[0m",
      "\u001b[0;32m/opt/anaconda/envs/tf2/lib/python3.6/site-packages/tensorflow_core/python/keras/engine/training.py\u001b[0m in \u001b[0;36mevaluate\u001b[0;34m(self, x, y, batch_size, verbose, sample_weight, steps, callbacks, max_queue_size, workers, use_multiprocessing)\u001b[0m\n\u001b[1;32m    831\u001b[0m         \u001b[0mmax_queue_size\u001b[0m\u001b[0;34m=\u001b[0m\u001b[0mmax_queue_size\u001b[0m\u001b[0;34m,\u001b[0m\u001b[0;34m\u001b[0m\u001b[0m\n\u001b[1;32m    832\u001b[0m         \u001b[0mworkers\u001b[0m\u001b[0;34m=\u001b[0m\u001b[0mworkers\u001b[0m\u001b[0;34m,\u001b[0m\u001b[0;34m\u001b[0m\u001b[0m\n\u001b[0;32m--> 833\u001b[0;31m         use_multiprocessing=use_multiprocessing)\n\u001b[0m\u001b[1;32m    834\u001b[0m \u001b[0;34m\u001b[0m\u001b[0m\n\u001b[1;32m    835\u001b[0m   def predict(self,\n",
      "\u001b[0;32m/opt/anaconda/envs/tf2/lib/python3.6/site-packages/tensorflow_core/python/keras/engine/training_arrays.py\u001b[0m in \u001b[0;36mevaluate\u001b[0;34m(self, model, x, y, batch_size, verbose, sample_weight, steps, callbacks, **kwargs)\u001b[0m\n\u001b[1;32m    701\u001b[0m         \u001b[0mverbose\u001b[0m\u001b[0;34m=\u001b[0m\u001b[0mverbose\u001b[0m\u001b[0;34m,\u001b[0m\u001b[0;34m\u001b[0m\u001b[0m\n\u001b[1;32m    702\u001b[0m         \u001b[0msteps\u001b[0m\u001b[0;34m=\u001b[0m\u001b[0msteps\u001b[0m\u001b[0;34m,\u001b[0m\u001b[0;34m\u001b[0m\u001b[0m\n\u001b[0;32m--> 703\u001b[0;31m         callbacks=callbacks)\n\u001b[0m\u001b[1;32m    704\u001b[0m \u001b[0;34m\u001b[0m\u001b[0m\n\u001b[1;32m    705\u001b[0m   def predict(self,\n",
      "\u001b[0;32m/opt/anaconda/envs/tf2/lib/python3.6/site-packages/tensorflow_core/python/keras/engine/training_arrays.py\u001b[0m in \u001b[0;36mmodel_iteration\u001b[0;34m(model, inputs, targets, sample_weights, batch_size, epochs, verbose, callbacks, val_inputs, val_targets, val_sample_weights, shuffle, initial_epoch, steps_per_epoch, validation_steps, validation_freq, mode, validation_in_fit, prepared_feed_values_from_dataset, steps_name, **kwargs)\u001b[0m\n\u001b[1;32m    391\u001b[0m \u001b[0;34m\u001b[0m\u001b[0m\n\u001b[1;32m    392\u001b[0m         \u001b[0;31m# Get outputs.\u001b[0m\u001b[0;34m\u001b[0m\u001b[0;34m\u001b[0m\u001b[0m\n\u001b[0;32m--> 393\u001b[0;31m         \u001b[0mbatch_outs\u001b[0m \u001b[0;34m=\u001b[0m \u001b[0mf\u001b[0m\u001b[0;34m(\u001b[0m\u001b[0mins_batch\u001b[0m\u001b[0;34m)\u001b[0m\u001b[0;34m\u001b[0m\u001b[0m\n\u001b[0m\u001b[1;32m    394\u001b[0m         \u001b[0;32mif\u001b[0m \u001b[0;32mnot\u001b[0m \u001b[0misinstance\u001b[0m\u001b[0;34m(\u001b[0m\u001b[0mbatch_outs\u001b[0m\u001b[0;34m,\u001b[0m \u001b[0mlist\u001b[0m\u001b[0;34m)\u001b[0m\u001b[0;34m:\u001b[0m\u001b[0;34m\u001b[0m\u001b[0m\n\u001b[1;32m    395\u001b[0m           \u001b[0mbatch_outs\u001b[0m \u001b[0;34m=\u001b[0m \u001b[0;34m[\u001b[0m\u001b[0mbatch_outs\u001b[0m\u001b[0;34m]\u001b[0m\u001b[0;34m\u001b[0m\u001b[0m\n",
      "\u001b[0;32m/opt/anaconda/envs/tf2/lib/python3.6/site-packages/tensorflow_core/python/keras/backend.py\u001b[0m in \u001b[0;36m__call__\u001b[0;34m(self, inputs)\u001b[0m\n\u001b[1;32m   3578\u001b[0m \u001b[0;34m\u001b[0m\u001b[0m\n\u001b[1;32m   3579\u001b[0m     fetched = self._callable_fn(*array_vals,\n\u001b[0;32m-> 3580\u001b[0;31m                                 run_metadata=self.run_metadata)\n\u001b[0m\u001b[1;32m   3581\u001b[0m     \u001b[0mself\u001b[0m\u001b[0;34m.\u001b[0m\u001b[0m_call_fetch_callbacks\u001b[0m\u001b[0;34m(\u001b[0m\u001b[0mfetched\u001b[0m\u001b[0;34m[\u001b[0m\u001b[0;34m-\u001b[0m\u001b[0mlen\u001b[0m\u001b[0;34m(\u001b[0m\u001b[0mself\u001b[0m\u001b[0;34m.\u001b[0m\u001b[0m_fetches\u001b[0m\u001b[0;34m)\u001b[0m\u001b[0;34m:\u001b[0m\u001b[0;34m]\u001b[0m\u001b[0;34m)\u001b[0m\u001b[0;34m\u001b[0m\u001b[0m\n\u001b[1;32m   3582\u001b[0m     output_structure = nest.pack_sequence_as(\n",
      "\u001b[0;32m/opt/anaconda/envs/tf2/lib/python3.6/site-packages/tensorflow_core/python/client/session.py\u001b[0m in \u001b[0;36m__call__\u001b[0;34m(self, *args, **kwargs)\u001b[0m\n\u001b[1;32m   1470\u001b[0m         ret = tf_session.TF_SessionRunCallable(self._session._session,\n\u001b[1;32m   1471\u001b[0m                                                \u001b[0mself\u001b[0m\u001b[0;34m.\u001b[0m\u001b[0m_handle\u001b[0m\u001b[0;34m,\u001b[0m \u001b[0margs\u001b[0m\u001b[0;34m,\u001b[0m\u001b[0;34m\u001b[0m\u001b[0m\n\u001b[0;32m-> 1472\u001b[0;31m                                                run_metadata_ptr)\n\u001b[0m\u001b[1;32m   1473\u001b[0m         \u001b[0;32mif\u001b[0m \u001b[0mrun_metadata\u001b[0m\u001b[0;34m:\u001b[0m\u001b[0;34m\u001b[0m\u001b[0m\n\u001b[1;32m   1474\u001b[0m           \u001b[0mproto_data\u001b[0m \u001b[0;34m=\u001b[0m \u001b[0mtf_session\u001b[0m\u001b[0;34m.\u001b[0m\u001b[0mTF_GetBuffer\u001b[0m\u001b[0;34m(\u001b[0m\u001b[0mrun_metadata_ptr\u001b[0m\u001b[0;34m)\u001b[0m\u001b[0;34m\u001b[0m\u001b[0m\n",
      "\u001b[0;31mInvalidArgumentError\u001b[0m: 2 root error(s) found.\n  (0) Invalid argument: input must have at least k columns. Had 2, needed 32\n\t [[{{node loss_7/sequential_5_loss/TopKV2}}]]\n\t [[metrics_14/loss_1/Identity/_12337]]\n  (1) Invalid argument: input must have at least k columns. Had 2, needed 32\n\t [[{{node loss_7/sequential_5_loss/TopKV2}}]]\n0 successful operations.\n0 derived errors ignored."
     ]
    }
   ],
   "source": [
    "topic_model_pr.evaluate(f_val,f_val_y.astype(int))"
   ]
  },
  {
   "cell_type": "code",
   "execution_count": 173,
   "metadata": {
    "collapsed": false
   },
   "outputs": [
    {
     "data": {
      "text/plain": [
       "0.7197100448740076"
      ]
     },
     "execution_count": 173,
     "metadata": {},
     "output_type": "execute_result"
    }
   ],
   "source": [
    "(np.argmax(predict_val,axis=1) == f_val_y).mean()"
   ]
  },
  {
   "cell_type": "markdown",
   "metadata": {},
   "source": [
    "### Evaluate the test of number of concepts"
   ]
  },
  {
   "cell_type": "code",
   "execution_count": 33,
   "metadata": {
    "collapsed": true
   },
   "outputs": [],
   "source": [
    "import pickle\n",
    "import matplotlib.pyplot as plt\n",
    "import os\n",
    "import pandas as pd\n",
    "import numpy as np"
   ]
  },
  {
   "cell_type": "code",
   "execution_count": 7,
   "metadata": {
    "collapsed": true
   },
   "outputs": [],
   "source": [
    "path_to_models = \"saved_models/BIRD_base/\""
   ]
  },
  {
   "cell_type": "code",
   "execution_count": 39,
   "metadata": {
    "collapsed": false
   },
   "outputs": [
    {
     "name": "stdout",
     "output_type": "stream",
     "text": [
      "10 0.06368657231618916 0.7447359337245426 0.06806806806806807 0.9984984984984985\n",
      "20 0.16724197445633415 0.7290300310666207 0.20804137470804138 0.9983316649983317\n",
      "30 0.2918536416983086 0.7392129789437349 0.3957290623957291 0.9986653319986654\n",
      "40 0.42647566448049706 0.7488781498101484 0.5815815815815816 0.9993326659993327\n",
      "50 0.45995857783914396 0.7400759406282361 0.6675008341675008 0.9976643309976644\n",
      "60 0.5847428374180187 0.7262685536762168 0.8445111778445111 0.9974974974974975\n",
      "70 0.6308249913703832 0.7343803935105281 0.8860527193860527 0.9988321654988321\n",
      "80 0.6820849154297549 0.7468070417673456 0.9821488154821488 0.9991658324991658\n",
      "90 0.6741456679323438 0.7324818778046255 0.9626292959626293 0.9978311644978312\n",
      "100 0.7005522954780807 0.7305833620987228 0.9951618284951619 0.9973306639973306\n"
     ]
    }
   ],
   "source": [
    "for number_concpets in range(10,110,10):\n",
    "    train_pred = pickle.load(open(path_to_models + \"{}/full_train_0.pkl\".format(number_concpets),\"rb\"))\n",
    "    test_pred = pickle.load(open(path_to_models + \"{}/full_test_0.pkl\".format(number_concpets),\"rb\"))\n",
    "    con_train_pred = pickle.load(open(path_to_models + \"{}/con_train_0.pkl\".format(number_concpets),\"rb\"))\n",
    "    con_test_pred = pickle.load(open(path_to_models + \"{}/con_test_0.pkl\".format(number_concpets),\"rb\"))\n",
    "    print(number_concpets,\n",
    "    np.mean(test_df[\"y_col\"].astype(int)-1 == con_test_pred),\n",
    "    np.mean(test_df[\"y_col\"].astype(int)-1 == test_pred),\n",
    "    np.mean(org_df[\"y_col\"].astype(int)-1 == con_train_pred),\n",
    "    np.mean(org_df[\"y_col\"].astype(int)-1 == train_pred))"
   ]
  },
  {
   "cell_type": "code",
   "execution_count": 17,
   "metadata": {
    "collapsed": true
   },
   "outputs": [],
   "source": []
  },
  {
   "cell_type": "code",
   "execution_count": 19,
   "metadata": {
    "collapsed": false
   },
   "outputs": [
    {
     "data": {
      "text/plain": [
       "[<matplotlib.lines.Line2D at 0x7f6bdde00908>]"
      ]
     },
     "execution_count": 19,
     "metadata": {},
     "output_type": "execute_result"
    },
    {
     "data": {
      "image/png": "[encoded data removed]",
      "text/plain": [
       "<Figure size 432x288 with 1 Axes>"
      ]
     },
     "metadata": {
      "needs_background": "light"
     },
     "output_type": "display_data"
    }
   ],
   "source": [
    "plt.plot(con_test_pred)"
   ]
  },
  {
   "cell_type": "markdown",
   "metadata": {
    "collapsed": false
   },
   "source": [
    "### Bug fixing 19.04.21"
   ]
  },
  {
   "cell_type": "code",
   "execution_count": 63,
   "metadata": {
    "collapsed": true
   },
   "outputs": [],
   "source": [
    "from ResNet34 import ResNet34"
   ]
  },
  {
   "cell_type": "code",
   "execution_count": 48,
   "metadata": {
    "collapsed": true
   },
   "outputs": [],
   "source": [
    "def create_org_model(train_generator, val_generator, input_shape=(224, 224, 3),  verbose=True, epochs=10, load=True):\n",
    "    \"\"\"Loads pretrain model or train one.\"\"\"\n",
    "    convlayers = ResNet34(input_shape=input_shape, input_tensor=None, weights='imagenet', include_top=False)\n",
    "    dense1 = Dense(200,activation='softmax')\n",
    "\n",
    "    model=Sequential()\n",
    "    model.add(convlayers)\n",
    "    model.add(AveragePooling2D(7,7))\n",
    "    model.add(Flatten())\n",
    "    model.add(dense1)\n",
    "    optimizer = tf.keras.optimizers.RMSprop(lr=0.001, rho=0.9, epsilon=1e-08, decay=0.0)\n",
    "    opt=tf.keras.optimizers.Adam(lr=0.0001)\n",
    "    model.compile(loss='sparse_categorical_crossentropy',metrics=['accuracy'],optimizer=opt)\n",
    "    \n",
    "    if not load :\n",
    "        history=model.fit_generator(train_generator,validation_data=val_generator,\n",
    "         epochs=epochs, verbose=verbose)\n",
    "        model.save_weights(model_dir+'complete_model.h5')\n",
    "    else:\n",
    "        model.load_weights(model_dir+'complete_model.h5')\n",
    "    \n",
    "    for layer in model.layers:\n",
    "        layer.trainable = False\n",
    "    \n",
    "    feature_model =  Sequential()\n",
    "    feature_model.add(convlayers)\n",
    "    feature_model.add(AveragePooling2D(7,7))\n",
    "    predict_model  =  Sequential()\n",
    "    predict_model.add(Flatten())\n",
    "    predict_model.add(dense1)\n",
    "\n",
    "    return feature_model, predict_model, model"
   ]
  },
  {
   "cell_type": "code",
   "execution_count": 49,
   "metadata": {
    "collapsed": true
   },
   "outputs": [],
   "source": [
    "def new_train_generator(seed,percentage,df,org_datasetsize,repetition=30):\n",
    "    np.random.seed(seed)\n",
    "    indices = np.random.choice(org_datasetsize, size=int(percentage*org_datasetsize), replace=False)\n",
    "    augmented_indices = indices.repeat(repetition)*repetition+np.tile(np.arange(repetition),len(indices))\n",
    "    train_generator =train_datagen.flow_from_dataframe(dataframe=df.iloc[augmented_indices],\n",
    "        directory=train_directory,\n",
    "        x_col=\"x_col\",\n",
    "        y_col=\"y_col\",\n",
    "        target_size=(224,224),\n",
    "        color_mode='rgb',\n",
    "        shuffle=True,\n",
    "        seed=seed,\n",
    "        class_mode='sparse',batch_size=batch_size,\n",
    "    )\n",
    "    return train_generator, indices"
   ]
  },
  {
   "cell_type": "code",
   "execution_count": 50,
   "metadata": {
    "collapsed": true
   },
   "outputs": [],
   "source": [
    "class Weight(Layer):\n",
    "    \"\"\"Simple Weight class.\"\"\"\n",
    "\n",
    "    def __init__(self, dim, **kwargs):\n",
    "        self.dim = dim\n",
    "        super(Weight, self).__init__(**kwargs)\n",
    "\n",
    "    def build(self, input_shape):\n",
    "        # creates a trainable weight variable for this layer.\n",
    "        self.kernel = self.add_weight(\n",
    "            name='proj', shape=self.dim, initializer=init, trainable=True)\n",
    "        super(Weight, self).build(input_shape)\n",
    "\n",
    "    def call(self, x):\n",
    "        return self.kernel\n",
    "\n",
    "    def compute_output_shape(self, input_shape):\n",
    "        return self.dim\n",
    "\n",
    "def mean_sim(topic_prob_n,n_concept):\n",
    "  \"\"\"creates loss for topic model\"\"\"\n",
    "  def loss(y_true, y_pred):\n",
    "    return 1*tf.reduce_mean(input_tensor=tf.nn.top_k(K.transpose(K.reshape(topic_prob_n,(-1,n_concept))),k=32,sorted=True).values)\n",
    "  return loss"
   ]
  },
  {
   "cell_type": "code",
   "execution_count": 51,
   "metadata": {
    "collapsed": true
   },
   "outputs": [],
   "source": [
    "def topic_model_new_BIRD(predict,\n",
    "           f_train,\n",
    "           y_train,\n",
    "           n_concept,\n",
    "           verbose=False,\n",
    "           metric1=['accuracy'],\n",
    "           opt='adam',\n",
    "           loss1=tf.nn.softmax_cross_entropy_with_logits,\n",
    "           thres=0.0,\n",
    "           load=False):\n",
    "    \"\"\"Returns main function of topic model.\"\"\"\n",
    "\n",
    "\n",
    "    f_input = Input(shape=(f_train.shape[1],f_train.shape[2],f_train.shape[3]), name='f_input')\n",
    "    f_input_n =  Lambda(lambda x:K.l2_normalize(x,axis=(3)))(f_input)\n",
    "\n",
    "    topic_vector = Weight((f_train.shape[3], n_concept))(f_input)\n",
    "    topic_vector_n = Lambda(lambda x: K.l2_normalize(x, axis=0))(topic_vector)\n",
    "    topic_prob = Lambda(lambda x:K.dot(x[0],x[1]))([f_input, topic_vector_n])\n",
    "    topic_prob_n = Lambda(lambda x:K.dot(x[0],x[1]))([f_input_n, topic_vector_n])\n",
    "    topic_prob_mask = Lambda(lambda x:K.cast(K.greater(x,thres),'float32'))(topic_prob_n)\n",
    "    topic_prob_am = Lambda(lambda x:x[0]*x[1])([topic_prob,topic_prob_mask])\n",
    "    topic_prob_sum = Lambda(lambda x: K.sum(x, axis=3, keepdims=True)+1e-3)(topic_prob_am)\n",
    "    topic_prob_nn = Lambda(lambda x: x[0]/x[1])([topic_prob_am, topic_prob_sum])\n",
    "\n",
    "    rec_vector_1 = Weight((n_concept, 500))(f_input)\n",
    "    rec_vector_2 = Weight((500, f_train.shape[3]))(f_input)\n",
    "    rec_layer_1 = Lambda(lambda x:K.relu(K.dot(x[0],x[1])))([topic_prob_nn, rec_vector_1])\n",
    "    rec_layer_2 = Lambda(lambda x:K.dot(x[0],x[1]))([rec_layer_1, rec_vector_2])\n",
    "    pred = predict(rec_layer_2)\n",
    "    topic_model_pr = Model(inputs=f_input, outputs=pred)\n",
    "    topic_model_pr.layers[-1].trainable = False\n",
    "    if opt =='sgd':\n",
    "        optimizer = SGD(lr=0.001)\n",
    "        optimizer_state = [optimizer.iterations, optimizer.lr,\n",
    "              optimizer.momentum, optimizer.decay]\n",
    "        optimizer_reset = tf.compat.v1.variables_initializer(optimizer_state)\n",
    "    elif opt =='adam':\n",
    "        optimizer = Adam(lr=0.001)\n",
    "        optimizer_state = [optimizer.iterations, optimizer.lr, optimizer.beta_1,\n",
    "                                 optimizer.beta_2, optimizer.decay]\n",
    "        optimizer_reset = tf.compat.v1.variables_initializer(optimizer_state)\n",
    "    metric1.append(mean_sim(topic_prob_n, n_concept))\n",
    "    topic_model_pr.compile(\n",
    "      loss=topic_loss_BIRD(topic_prob_n, topic_vector_n,  n_concept, f_input, loss1=loss1),\n",
    "      optimizer=optimizer,metrics=metric1)\n",
    "    #print(topic_model_pr.summary())\n",
    "    if load:\n",
    "        topic_model_pr.load_weights(load)\n",
    "    return topic_model_pr, optimizer_reset, optimizer, topic_vector_n,  n_concept, f_input"
   ]
  },
  {
   "cell_type": "code",
   "execution_count": 52,
   "metadata": {
    "collapsed": true
   },
   "outputs": [],
   "source": [
    "def topic_loss_BIRD(topic_prob_n, topic_vector_n, n_concept, f_input, loss1):\n",
    "  \"\"\"creates loss for topic model\"\"\"\n",
    "  def loss(y_true, y_pred):\n",
    "    return (1.0*tf.reduce_mean(input_tensor=loss1(y_true, y_pred))\\\n",
    "            - 0.1*tf.reduce_mean(input_tensor=(tf.nn.top_k(K.transpose(K.reshape(topic_prob_n,(-1,n_concept))),k=32,sorted=True).values))\n",
    "            + 0.1*tf.reduce_mean(input_tensor=(K.dot(K.transpose(topic_vector_n), topic_vector_n) - tf.eye(n_concept)))\n",
    "            )\n",
    "  return loss"
   ]
  },
  {
   "cell_type": "code",
   "execution_count": 60,
   "metadata": {
    "collapsed": true
   },
   "outputs": [],
   "source": [
    "base_architecture = 'BIRD_3ep_100cons'\n",
    "percentage = 0.7\n",
    "verbose = 0\n",
    "n_concept = 100\n",
    "batch_size = 128\n",
    "org_epochs = 3\n",
    "topic_epochs = 10\n",
    "\n",
    "train_directory='../data/cup_200_cropped/train_cropped_augmented2'\n",
    "org_train_directory='../data/cup_200_cropped/train_cropped'\n",
    "test_directory='../data/cup_200_cropped/test_cropped'\n",
    "\n",
    "train_datagen=ImageDataGenerator(rescale=1/255)\n",
    "org_train_datagen=ImageDataGenerator(rescale=1/255)\n",
    "test_datagen=ImageDataGenerator(rescale=1/255)\n",
    "\n",
    "# Create the dataframe to sample from the augmented dataset\n",
    "filenames = []\n",
    "folders = os.listdir(train_directory)\n",
    "for foldername in sorted(folders):\n",
    "    files = os.listdir(train_directory+\"/\"+foldername)\n",
    "    for filename in sorted(files):\n",
    "        filenames.append(foldername+\"/\"+filename)\n",
    "df = pd.DataFrame(filenames ,columns=[\"x_col\"])\n",
    "df[\"y_col\"] = df[\"x_col\"].map(lambda x: x.split(\".\")[0])"
   ]
  },
  {
   "cell_type": "code",
   "execution_count": 55,
   "metadata": {
    "collapsed": false
   },
   "outputs": [],
   "source": [
    "# Create the dataframe for the original dataset\n",
    "filenames = []\n",
    "folders = os.listdir(org_train_directory)\n",
    "for foldername in sorted(folders):\n",
    "    files = os.listdir(org_train_directory+\"/\"+foldername)\n",
    "    for filename in sorted(files):\n",
    "        filenames.append(foldername+\"/\"+filename)\n",
    "org_df = pd.DataFrame(filenames ,columns=[\"x_col\"])\n",
    "org_df[\"y_col\"] = org_df[\"x_col\"].map(lambda x: x.split(\".\")[0])"
   ]
  },
  {
   "cell_type": "code",
   "execution_count": 56,
   "metadata": {
    "collapsed": false
   },
   "outputs": [
    {
     "name": "stdout",
     "output_type": "stream",
     "text": [
      "Found 5994 validated image filenames belonging to 200 classes.\n"
     ]
    }
   ],
   "source": [
    "org_train_generator =org_train_datagen.flow_from_dataframe(dataframe=org_df,\n",
    "    directory=org_train_directory,\n",
    "    x_col=\"x_col\",\n",
    "    y_col=\"y_col\",\n",
    "    target_size=(224,224),\n",
    "    color_mode='rgb',\n",
    "    shuffle=False,\n",
    "    class_mode='sparse',batch_size=batch_size,\n",
    ")"
   ]
  },
  {
   "cell_type": "code",
   "execution_count": 57,
   "metadata": {
    "collapsed": true
   },
   "outputs": [],
   "source": [
    "# Create the dataframe for the test dataset\n",
    "filenames = []\n",
    "folders = os.listdir(test_directory)\n",
    "for foldername in sorted(folders):\n",
    "    files = os.listdir(test_directory+\"/\"+foldername)\n",
    "    for filename in sorted(files):\n",
    "        filenames.append(foldername+\"/\"+filename)\n",
    "test_df = pd.DataFrame(filenames ,columns=[\"x_col\"])\n",
    "test_df[\"y_col\"] = test_df[\"x_col\"].map(lambda x: x.split(\".\")[0])"
   ]
  },
  {
   "cell_type": "code",
   "execution_count": 58,
   "metadata": {
    "collapsed": false
   },
   "outputs": [
    {
     "name": "stdout",
     "output_type": "stream",
     "text": [
      "Found 5794 validated image filenames belonging to 200 classes.\n"
     ]
    }
   ],
   "source": [
    "test_generator =test_datagen.flow_from_dataframe(dataframe=test_df,\n",
    "    directory=test_directory,\n",
    "    x_col=\"x_col\",\n",
    "    y_col=\"y_col\",\n",
    "    target_size=(224,224),\n",
    "    color_mode='rgb',\n",
    "    shuffle=False,\n",
    "    class_mode='sparse',batch_size=batch_size,\n",
    ")"
   ]
  },
  {
   "cell_type": "code",
   "execution_count": 64,
   "metadata": {
    "collapsed": false
   },
   "outputs": [
    {
     "name": "stdout",
     "output_type": "stream",
     "text": [
      "Found 125850 validated image filenames belonging to 200 classes.\n",
      "WARNING:tensorflow:From /opt/anaconda/envs/tf2/lib/python3.6/site-packages/tensorflow_core/python/ops/resource_variable_ops.py:1630: calling BaseResourceVariable.__init__ (from tensorflow.python.ops.resource_variable_ops) with constraint is deprecated and will be removed in a future version.\n",
      "Instructions for updating:\n",
      "If using Keras pass *_constraint arguments to layers.\n"
     ]
    }
   ],
   "source": [
    "experiment_run = '1'\n",
    "seed = int(experiment_run)\n",
    "experiment_run = str(experiment_run) \n",
    "model_dir = './saved_models/' + base_architecture + '/' + experiment_run + '/'\n",
    "#makedir(model_dir)\n",
    "train_datagen=ImageDataGenerator(rescale=1/255)\n",
    "train_generator, indices = new_train_generator(seed,percentage,df,org_datasetsize=len(org_df),repetition=30)\n",
    "feature_model, predict_model, model = create_org_model(train_generator,test_generator, epochs=org_epochs, load=True)"
   ]
  },
  {
   "cell_type": "code",
   "execution_count": 65,
   "metadata": {
    "collapsed": true
   },
   "outputs": [],
   "source": [
    "batches = 0 \n",
    "f_train = []\n",
    "f_train_y = []\n",
    "for x_batch, y_batch in train_generator:\n",
    "    f_train_batch = feature_model.predict(x_batch)\n",
    "    f_train.append(f_train_batch)\n",
    "    f_train_y.append(y_batch)\n",
    "    batches += 1\n",
    "    #print(batches, end=', ')\n",
    "    if batches >= len(train_generator):\n",
    "        # we need to break the loop by hand because\n",
    "        # the generator loops indefinitely\n",
    "        break\n",
    "f_train = np.concatenate(f_train)\n",
    "f_train_y = np.concatenate(f_train_y)"
   ]
  },
  {
   "cell_type": "code",
   "execution_count": 67,
   "metadata": {
    "collapsed": true
   },
   "outputs": [],
   "source": [
    "init = keras.initializers.RandomUniform(minval=-0.5, maxval=0.5, seed=None)"
   ]
  },
  {
   "cell_type": "code",
   "execution_count": 88,
   "metadata": {
    "collapsed": false
   },
   "outputs": [],
   "source": [
    "topic_model_pr, optimizer_reset, optimizer, topic_vector,  n_concept, f_input = topic_model_new_BIRD(predict_model,\n",
    "\t\t\t\t\t\t\t\t\t\t\t\t\t\t\t\t\t\t                                f_train[:-26],\n",
    "\t\t\t\t\t\t\t\t\t\t\t\t\t\t\t\t\t\t                                f_train_y[:-26],\n",
    "\t\t\t\t\t\t\t\t\t\t\t\t\t\t\t\t\t\t                                n_concept,\n",
    "\t\t\t\t\t\t\t\t\t\t\t\t\t\t\t\t\t\t                                verbose=verbose,\n",
    "\t\t\t\t\t\t\t\t\t\t\t\t\t\t\t\t\t\t                                metric1=['accuracy'],\n",
    "\t\t\t\t\t\t\t\t\t\t\t\t\t\t\t\t\t\t                                loss1=tf.keras.losses.sparse_categorical_crossentropy,\n",
    "\t\t\t\t\t\t\t\t\t\t\t\t\t\t\t\t\t\t                                thres=0.2,\n",
    "\t\t\t\t\t\t\t\t\t\t\t\t\t\t\t\t\t\t                                load=False)"
   ]
  },
  {
   "cell_type": "code",
   "execution_count": 89,
   "metadata": {
    "collapsed": false
   },
   "outputs": [
    {
     "name": "stdout",
     "output_type": "stream",
     "text": [
      "Train on 125850 samples\n",
      "Epoch 1/10\n",
      "125850/125850 - 7s - loss: 2.9053 - accuracy: 0.0055 - loss_1: 0.1498\n",
      "Epoch 2/10\n",
      "125850/125850 - 6s - loss: 1.6207 - accuracy: 0.0028 - loss_1: 0.1527\n",
      "Epoch 3/10\n",
      "125850/125850 - 6s - loss: 1.1296 - accuracy: 0.0042 - loss_1: 0.1516\n",
      "Epoch 4/10\n",
      "125850/125850 - 6s - loss: 0.8621 - accuracy: 0.0054 - loss_1: 0.1517\n",
      "Epoch 5/10\n",
      "125850/125850 - 7s - loss: 0.6864 - accuracy: 0.0049 - loss_1: 0.1521\n",
      "Epoch 6/10\n",
      "125850/125850 - 7s - loss: 0.5359 - accuracy: 0.0051 - loss_1: 0.1531\n",
      "Epoch 7/10\n",
      "125850/125850 - 6s - loss: 0.3828 - accuracy: 0.0054 - loss_1: 0.1548\n",
      "Epoch 8/10\n",
      "125850/125850 - 5s - loss: 0.2984 - accuracy: 0.0054 - loss_1: 0.1560\n",
      "Epoch 9/10\n",
      "125850/125850 - 7s - loss: 0.2261 - accuracy: 0.0053 - loss_1: 0.1577\n",
      "Epoch 10/10\n",
      "125850/125850 - 6s - loss: 0.1629 - accuracy: 0.0052 - loss_1: 0.1596\n"
     ]
    },
    {
     "data": {
      "text/plain": [
       "<tensorflow.python.keras.callbacks.History at 0x7f6b18660f28>"
      ]
     },
     "execution_count": 89,
     "metadata": {},
     "output_type": "execute_result"
    }
   ],
   "source": [
    "topic_model_pr.fit(f_train,f_train_y,batch_size=150,epochs=topic_epochs, verbose=2)"
   ]
  },
  {
   "cell_type": "code",
   "execution_count": 90,
   "metadata": {
    "collapsed": false
   },
   "outputs": [
    {
     "name": "stdout",
     "output_type": "stream",
     "text": [
      "Train on 125824 samples\n",
      "Epoch 1/10\n",
      "125824/125824 - 7s - loss: 0.1215 - accuracy: 0.0052 - loss_1: 0.1556\n",
      "Epoch 2/10\n",
      "125824/125824 - 7s - loss: 0.0867 - accuracy: 0.0051 - loss_1: 0.1577\n",
      "Epoch 3/10\n",
      "125824/125824 - 8s - loss: 0.0640 - accuracy: 0.0051 - loss_1: 0.1598\n",
      "Epoch 4/10\n",
      "125824/125824 - 7s - loss: 0.0411 - accuracy: 0.0050 - loss_1: 0.1620\n",
      "Epoch 5/10\n",
      "125824/125824 - 7s - loss: 0.0228 - accuracy: 0.0050 - loss_1: 0.1645\n",
      "Epoch 6/10\n",
      "125824/125824 - 7s - loss: 0.0083 - accuracy: 0.0050 - loss_1: 0.1674\n",
      "Epoch 7/10\n",
      "125824/125824 - 7s - loss: 0.0021 - accuracy: 0.0050 - loss_1: 0.1696\n",
      "Epoch 8/10\n",
      "125824/125824 - 7s - loss: -3.1452e-03 - accuracy: 0.0050 - loss_1: 0.1725\n",
      "Epoch 9/10\n",
      "125824/125824 - 7s - loss: -7.0819e-03 - accuracy: 0.0050 - loss_1: 0.1759\n",
      "Epoch 10/10\n",
      "125824/125824 - 8s - loss: -9.2473e-03 - accuracy: 0.0050 - loss_1: 0.1790\n"
     ]
    },
    {
     "data": {
      "text/plain": [
       "<tensorflow.python.keras.callbacks.History at 0x7f6c3bdddc88>"
      ]
     },
     "execution_count": 90,
     "metadata": {},
     "output_type": "execute_result"
    }
   ],
   "source": [
    "topic_model_pr.fit(f_train[:-26],f_train_y[:-26],batch_size=128,epochs=topic_epochs, verbose=2)"
   ]
  },
  {
   "cell_type": "code",
   "execution_count": 74,
   "metadata": {
    "collapsed": false
   },
   "outputs": [
    {
     "data": {
      "text/plain": [
       "9"
      ]
     },
     "execution_count": 74,
     "metadata": {},
     "output_type": "execute_result"
    }
   ],
   "source": [
    "int(len(f_train) /0.7) % 32"
   ]
  },
  {
   "cell_type": "code",
   "execution_count": 85,
   "metadata": {
    "collapsed": false
   },
   "outputs": [
    {
     "data": {
      "text/plain": [
       "1.0"
      ]
     },
     "execution_count": 85,
     "metadata": {},
     "output_type": "execute_result"
    }
   ],
   "source": [
    "125850 /(5*5*3*2*839)"
   ]
  },
  {
   "cell_type": "code",
   "execution_count": 86,
   "metadata": {
    "collapsed": false
   },
   "outputs": [
    {
     "data": {
      "text/plain": [
       "150"
      ]
     },
     "execution_count": 86,
     "metadata": {},
     "output_type": "execute_result"
    }
   ],
   "source": [
    "(5*5*3*2)"
   ]
  },
  {
   "cell_type": "code",
   "execution_count": null,
   "metadata": {
    "collapsed": true
   },
   "outputs": [],
   "source": []
  }
 ],
 "metadata": {
  "anaconda-cloud": {},
  "kernelspec": {
   "display_name": "Python [conda env:tf2]",
   "language": "python",
   "name": "conda-env-tf2-py"
  },
  "language_info": {
   "codemirror_mode": {
    "name": "ipython",
    "version": 3
   },
   "file_extension": ".py",
   "mimetype": "text/x-python",
   "name": "python",
   "nbconvert_exporter": "python",
   "pygments_lexer": "ipython3",
   "version": "3.6.2"
  }
 },
 "nbformat": 4,
 "nbformat_minor": 1
}
