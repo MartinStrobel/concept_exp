{
 "cells": [
  {
   "cell_type": "code",
   "execution_count": 1,
   "metadata": {
    "collapsed": false
   },
   "outputs": [],
   "source": [
    "import os\n",
    "from tensorflow import keras\n",
    "from tensorflow.keras  import backend as K\n",
    "from tensorflow.keras.layers import Conv2D, Dense, Flatten, Input, Lambda, MaxPooling2D, Dropout, Layer\n",
    "from tensorflow.keras.models import Model\n",
    "import pandas as pd\n",
    "import numpy as np\n",
    "from tensorflow.keras.optimizers import Adam,SGD\n",
    "from sklearn.decomposition import PCA\n",
    "from sklearn.decomposition import TruncatedSVD\n",
    "from sklearn.utils.extmath import randomized_svd\n",
    "from absl import app\n",
    "from sklearn.linear_model import LogisticRegression\n",
    "import tensorflow as tf\n",
    "import matplotlib.pyplot as plt\n",
    "import pickle"
   ]
  },
  {
   "cell_type": "code",
   "execution_count": 2,
   "metadata": {
    "collapsed": false
   },
   "outputs": [],
   "source": [
    "import tensorflow_datasets as tfds\n",
    "tf.compat.v1.disable_eager_execution()"
   ]
  },
  {
   "cell_type": "code",
   "execution_count": 3,
   "metadata": {
    "collapsed": true
   },
   "outputs": [],
   "source": [
    "import os\n",
    "os.environ[\"CUDA_DEVICE_ORDER\"]=\"PCI_BUS_ID\"   # see issue #152\n",
    "os.environ[\"CUDA_VISIBLE_DEVICES\"]=\"0\""
   ]
  },
  {
   "cell_type": "code",
   "execution_count": 4,
   "metadata": {
    "collapsed": true
   },
   "outputs": [],
   "source": [
    "init = keras.initializers.RandomUniform(minval=-0.5, maxval=0.5, seed=None)"
   ]
  },
  {
   "cell_type": "code",
   "execution_count": 5,
   "metadata": {
    "collapsed": true
   },
   "outputs": [],
   "source": [
    "model_dir = \"MNIST_data/\"\n",
    "n_concept = 5\n",
    "n_cluster = 5\n",
    "n = 60000\n",
    "batch_size = 128\n",
    "pretrain = False\n",
    "verbose = 2\n",
    "thres = 0.2"
   ]
  },
  {
   "cell_type": "code",
   "execution_count": 20,
   "metadata": {
    "collapsed": true
   },
   "outputs": [],
   "source": [
    "train = pd.read_csv(\"../data/MNIST/mnist_train.csv\")\n",
    "test = pd.read_csv(\"../data/MNIST/mnist_test.csv\")\n",
    "\n",
    "y_train = np.asarray(train[\"label\"])\n",
    "y_test = np.asarray(test[\"label\"])\n",
    "# Drop 'label' column\n",
    "x_train = train.drop(labels = [\"label\"],axis = 1) \n",
    "x_train = x_train.values.reshape(-1,28,28,1)\n",
    "x_test = test.drop(labels = [\"label\"],axis = 1) \n",
    "x_test = x_test.values.reshape(-1,28,28,1)\n",
    "y_val = y_test"
   ]
  },
  {
   "cell_type": "code",
   "execution_count": 7,
   "metadata": {
    "collapsed": false
   },
   "outputs": [],
   "source": [
    "def load_model_stm_new(dataset, x_val, y_val, width=28, \n",
    "                       height=28, channel=1, pretrain=True, verbose=True):\n",
    "    \"\"\"Loads pretrain model or train one.\"\"\"\n",
    "    input1 = Input(\n",
    "      shape=(\n",
    "          width,\n",
    "          height,\n",
    "          channel,\n",
    "      ), name='concat_input')\n",
    "    conv1 = Conv2D(32, kernel_size=5, activation='relu', padding='same')\n",
    "    conv2 = Conv2D(32, kernel_size=5, activation='relu', padding='same')\n",
    "    conv3 = Conv2D(64, kernel_size=3, activation='relu', padding='same')\n",
    "    conv4 = Conv2D(64, kernel_size=3, activation='relu', padding='same')\n",
    "    dense1 = Dense(256, activation='relu')\n",
    "    predict = Dense(10, activation='softmax')\n",
    "\n",
    "    conv1o = conv1(input1)\n",
    "    conv2o = conv2(conv1o)\n",
    "    pool1 = MaxPooling2D(pool_size=(2, 2))(conv2o)\n",
    "    drop1  = Dropout(.25)(pool1)\n",
    "    conv3o = conv3(drop1)\n",
    "    conv4o = conv4(conv3o)\n",
    "    pool2 = MaxPooling2D(pool_size=(2, 2),  strides=(2,2))(conv4o)\n",
    "    drop2  = Dropout(.25)(pool2)\n",
    "    drop2f = Flatten()(drop2)\n",
    "    fc1 = dense1(drop2f)\n",
    "    softmax1 = predict(fc1)\n",
    "\n",
    "    drop2_2 = Input(shape=(7,7,64), name='concat_input')  \n",
    "    drop2f_2 = Flatten()(drop2_2)\n",
    "    fc1_2 = dense1(drop2f_2)\n",
    "    softmax1_2 = predict(fc1_2)\n",
    "\n",
    "    mlp = Model(input1, softmax1)\n",
    "    optimizer = tf.keras.optimizers.RMSprop(lr=0.001, rho=0.9, epsilon=1e-08, decay=0.0)\n",
    "    mlp.compile(\n",
    "      loss='sparse_categorical_crossentropy',\n",
    "      optimizer=optimizer,\n",
    "      metrics=['accuracy'])\n",
    "\n",
    "    if pretrain:\n",
    "        mlp.load_weights(model_dir+'conv_toy.h5')\n",
    "    else:\n",
    "        _ = mlp.fit(dataset,epochs=10,verbose=verbose)\n",
    "        mlp.save_weights(model_dir+'conv_toy.h5')\n",
    "\n",
    "    for layer in mlp.layers:\n",
    "        layer.trainable = False\n",
    "\n",
    "    feature_model = Model(input1, drop2)\n",
    "    predict_model  = Model(drop2_2, softmax1_2)\n",
    "\n",
    "    return feature_model, predict_model"
   ]
  },
  {
   "cell_type": "code",
   "execution_count": 8,
   "metadata": {
    "collapsed": true
   },
   "outputs": [],
   "source": [
    "def new_training_set(seed,percentage):\n",
    "    np.random.seed(seed)\n",
    "    indices = np.random.choice(len(x_train), size=int(percentage*len(x_train)), replace=False)\n",
    "    ds_train = tf.data.Dataset.from_tensor_slices((x_train[indices], y_train[indices]))\n",
    "    ds_train = ds_train.map(\n",
    "        normalize_img, num_parallel_calls=tf.data.experimental.AUTOTUNE)\n",
    "    ds_train = ds_train.cache()\n",
    "    ds_train = ds_train.shuffle(len(x_train))\n",
    "    ds_train = ds_train.batch(128)\n",
    "    ds_train = ds_train.prefetch(tf.data.experimental.AUTOTUNE)\n",
    "    return ds_train, indices"
   ]
  },
  {
   "cell_type": "code",
   "execution_count": 9,
   "metadata": {
    "collapsed": true
   },
   "outputs": [],
   "source": [
    "def normalize_img(image, label):\n",
    "  \"\"\"Normalizes images: `uint8` -> `float32`.\"\"\"\n",
    "  return tf.cast(image, tf.float32) / 255., label"
   ]
  },
  {
   "cell_type": "code",
   "execution_count": 10,
   "metadata": {
    "collapsed": false
   },
   "outputs": [],
   "source": [
    "ds_train_small,ind  = new_training_set(0,0.7)"
   ]
  },
  {
   "cell_type": "code",
   "execution_count": 11,
   "metadata": {
    "collapsed": false
   },
   "outputs": [
    {
     "name": "stdout",
     "output_type": "stream",
     "text": [
      "WARNING:tensorflow:From /opt/anaconda/envs/tf2/lib/python3.6/site-packages/tensorflow_core/python/ops/resource_variable_ops.py:1630: calling BaseResourceVariable.__init__ (from tensorflow.python.ops.resource_variable_ops) with constraint is deprecated and will be removed in a future version.\n",
      "Instructions for updating:\n",
      "If using Keras pass *_constraint arguments to layers.\n",
      "Train on 329 steps\n",
      "Epoch 1/10\n",
      "329/329 - 6s - loss: 0.2192 - accuracy: 0.9303\n",
      "Epoch 2/10\n",
      "329/329 - 5s - loss: 0.0586 - accuracy: 0.9821\n",
      "Epoch 3/10\n",
      "329/329 - 4s - loss: 0.0412 - accuracy: 0.9878\n",
      "Epoch 4/10\n",
      "329/329 - 5s - loss: 0.0320 - accuracy: 0.9902\n",
      "Epoch 5/10\n",
      "329/329 - 4s - loss: 0.0266 - accuracy: 0.9920\n",
      "Epoch 6/10\n",
      "329/329 - 5s - loss: 0.0222 - accuracy: 0.9930\n",
      "Epoch 7/10\n",
      "329/329 - 5s - loss: 0.0211 - accuracy: 0.9938\n",
      "Epoch 8/10\n",
      "329/329 - 4s - loss: 0.0181 - accuracy: 0.9950\n",
      "Epoch 9/10\n",
      "329/329 - 4s - loss: 0.0172 - accuracy: 0.9951\n",
      "Epoch 10/10\n",
      "329/329 - 4s - loss: 0.0154 - accuracy: 0.9955\n"
     ]
    }
   ],
   "source": [
    "feature_model, predict_model = load_model_stm_new(ds_train_small, x_test, y_test, pretrain=pretrain,verbose=verbose)"
   ]
  },
  {
   "cell_type": "code",
   "execution_count": 12,
   "metadata": {
    "collapsed": false
   },
   "outputs": [
    {
     "name": "stdout",
     "output_type": "stream",
     "text": [
      "(42000, 7, 7, 64)\n"
     ]
    }
   ],
   "source": [
    "f_train = feature_model.predict(x_train[ind])\n",
    "f_val = feature_model.predict(x_test)\n",
    "print(f_train.shape)\n",
    "N = f_train.shape[0]\n",
    "trained = False"
   ]
  },
  {
   "cell_type": "code",
   "execution_count": 13,
   "metadata": {
    "collapsed": false
   },
   "outputs": [],
   "source": [
    "class Weight(Layer):\n",
    "    \"\"\"Simple Weight class.\"\"\"\n",
    "\n",
    "    def __init__(self, dim, **kwargs):\n",
    "        self.dim = dim\n",
    "        super(Weight, self).__init__(**kwargs)\n",
    "\n",
    "    def build(self, input_shape):\n",
    "        # creates a trainable weight variable for this layer.\n",
    "        self.kernel = self.add_weight(\n",
    "            name='proj', shape=self.dim, initializer=init, trainable=True)\n",
    "        super(Weight, self).build(input_shape)\n",
    "\n",
    "    def call(self, x):\n",
    "        return self.kernel\n",
    "\n",
    "    def compute_output_shape(self, input_shape):\n",
    "        return self.dim"
   ]
  },
  {
   "cell_type": "code",
   "execution_count": 14,
   "metadata": {
    "collapsed": true
   },
   "outputs": [],
   "source": [
    "def mean_sim(topic_prob_n,n_concept):\n",
    "  \"\"\"creates loss for topic model\"\"\"\n",
    "  def loss(y_true, y_pred):\n",
    "    return 1*tf.reduce_mean(input_tensor=tf.nn.top_k(K.transpose(K.reshape(topic_prob_n,(-1,n_concept))),k=32,sorted=True).values)\n",
    "  return loss"
   ]
  },
  {
   "cell_type": "code",
   "execution_count": 15,
   "metadata": {
    "collapsed": true
   },
   "outputs": [],
   "source": [
    "def topic_model_new_MNIST(predict,\n",
    "           f_train,\n",
    "           y_train,\n",
    "           n_concept,\n",
    "           verbose=False,\n",
    "           metric1=['accuracy'],\n",
    "           opt='adam',\n",
    "           loss1=tf.nn.softmax_cross_entropy_with_logits,\n",
    "           thres=0.0,\n",
    "           load=False):\n",
    "    \"\"\"Returns main function of topic model.\"\"\"\n",
    "\n",
    "\n",
    "    f_input = Input(shape=(f_train.shape[1],f_train.shape[2],f_train.shape[3]), name='f_input')\n",
    "    f_input_n =  Lambda(lambda x:K.l2_normalize(x,axis=(3)))(f_input)\n",
    "\n",
    "    topic_vector = Weight((f_train.shape[3], n_concept))(f_input)\n",
    "    topic_vector_n = Lambda(lambda x: K.l2_normalize(x, axis=0))(topic_vector)\n",
    "    topic_prob = Lambda(lambda x:K.dot(x[0],x[1]))([f_input, topic_vector_n])\n",
    "    topic_prob_n = Lambda(lambda x:K.dot(x[0],x[1]))([f_input_n, topic_vector_n])\n",
    "    topic_prob_mask = Lambda(lambda x:K.cast(K.greater(x,thres),'float32'))(topic_prob_n)\n",
    "    topic_prob_am = Lambda(lambda x:x[0]*x[1])([topic_prob,topic_prob_mask])\n",
    "    topic_prob_sum = Lambda(lambda x: K.sum(x, axis=3, keepdims=True)+1e-3)(topic_prob_am)\n",
    "    topic_prob_nn = Lambda(lambda x: x[0]/x[1])([topic_prob_am, topic_prob_sum])\n",
    "\n",
    "    rec_vector_1 = Weight((n_concept, 500))(f_input)\n",
    "    rec_vector_2 = Weight((500, f_train.shape[3]))(f_input)\n",
    "    rec_layer_1 = Lambda(lambda x:K.relu(K.dot(x[0],x[1])))([topic_prob_nn, rec_vector_1])\n",
    "    rec_layer_2 = Lambda(lambda x:K.dot(x[0],x[1]))([rec_layer_1, rec_vector_2])\n",
    "    pred = predict(rec_layer_2)\n",
    "    topic_model_pr = Model(inputs=f_input, outputs=pred)\n",
    "    topic_model_pr.layers[-1].trainable = False\n",
    "    if opt =='sgd':\n",
    "        optimizer = SGD(lr=0.001)\n",
    "        optimizer_state = [optimizer.iterations, optimizer.lr,\n",
    "              optimizer.momentum, optimizer.decay]\n",
    "        optimizer_reset = tf.compat.v1.variables_initializer(optimizer_state)\n",
    "    elif opt =='adam':\n",
    "        optimizer = Adam(lr=0.001)\n",
    "        optimizer_state = [optimizer.iterations, optimizer.lr, optimizer.beta_1,\n",
    "                                 optimizer.beta_2, optimizer.decay]\n",
    "        optimizer_reset = tf.compat.v1.variables_initializer(optimizer_state)\n",
    "    metric1.append(mean_sim(topic_prob_n, n_concept))\n",
    "    topic_model_pr.compile(\n",
    "      loss=topic_loss_MNIST(topic_prob_n, topic_vector_n,  n_concept, f_input, loss1=loss1),\n",
    "      optimizer=optimizer,metrics=metric1)\n",
    "    print(topic_model_pr.summary())\n",
    "    if load:\n",
    "        topic_model_pr.load_weights(load)\n",
    "    return topic_model_pr, optimizer_reset, optimizer, topic_vector_n,  n_concept, f_input"
   ]
  },
  {
   "cell_type": "code",
   "execution_count": 16,
   "metadata": {
    "collapsed": true
   },
   "outputs": [],
   "source": [
    "def topic_loss_MNIST(topic_prob_n, topic_vector_n, n_concept, f_input, loss1):\n",
    "  \"\"\"creates loss for topic model\"\"\"\n",
    "  def loss(y_true, y_pred):\n",
    "    return (1.0*tf.reduce_mean(input_tensor=loss1(y_true, y_pred))\\\n",
    "            - 0.1*tf.reduce_mean(input_tensor=(tf.nn.top_k(K.transpose(K.reshape(topic_prob_n,(-1,n_concept))),k=32,sorted=True).values))\n",
    "            + 0.1*tf.reduce_mean(input_tensor=(K.dot(K.transpose(topic_vector_n), topic_vector_n) - np.eye(n_concept)))\n",
    "            )\n",
    "  return loss"
   ]
  },
  {
   "cell_type": "code",
   "execution_count": 17,
   "metadata": {
    "collapsed": false
   },
   "outputs": [
    {
     "name": "stdout",
     "output_type": "stream",
     "text": [
      "Model: \"model_3\"\n",
      "__________________________________________________________________________________________________\n",
      "Layer (type)                    Output Shape         Param #     Connected to                     \n",
      "==================================================================================================\n",
      "f_input (InputLayer)            [(None, 7, 7, 64)]   0                                            \n",
      "__________________________________________________________________________________________________\n",
      "weight (Weight)                 (64, 5)              320         f_input[0][0]                    \n",
      "__________________________________________________________________________________________________\n",
      "lambda_1 (Lambda)               (64, 5)              0           weight[0][0]                     \n",
      "__________________________________________________________________________________________________\n",
      "lambda (Lambda)                 (None, 7, 7, 64)     0           f_input[0][0]                    \n",
      "__________________________________________________________________________________________________\n",
      "lambda_3 (Lambda)               (None, 7, 7, 5)      0           lambda[0][0]                     \n",
      "                                                                 lambda_1[0][0]                   \n",
      "__________________________________________________________________________________________________\n",
      "lambda_2 (Lambda)               (None, 7, 7, 5)      0           f_input[0][0]                    \n",
      "                                                                 lambda_1[0][0]                   \n",
      "__________________________________________________________________________________________________\n",
      "lambda_4 (Lambda)               (None, 7, 7, 5)      0           lambda_3[0][0]                   \n",
      "__________________________________________________________________________________________________\n",
      "lambda_5 (Lambda)               (None, 7, 7, 5)      0           lambda_2[0][0]                   \n",
      "                                                                 lambda_4[0][0]                   \n",
      "__________________________________________________________________________________________________\n",
      "lambda_6 (Lambda)               (None, 7, 7, 1)      0           lambda_5[0][0]                   \n",
      "__________________________________________________________________________________________________\n",
      "lambda_7 (Lambda)               (None, 7, 7, 5)      0           lambda_5[0][0]                   \n",
      "                                                                 lambda_6[0][0]                   \n",
      "__________________________________________________________________________________________________\n",
      "weight_1 (Weight)               (5, 500)             2500        f_input[0][0]                    \n",
      "__________________________________________________________________________________________________\n",
      "lambda_8 (Lambda)               (None, 7, 7, 500)    0           lambda_7[0][0]                   \n",
      "                                                                 weight_1[0][0]                   \n",
      "__________________________________________________________________________________________________\n",
      "weight_2 (Weight)               (500, 64)            32000       f_input[0][0]                    \n",
      "__________________________________________________________________________________________________\n",
      "lambda_9 (Lambda)               (None, 7, 7, 64)     0           lambda_8[0][0]                   \n",
      "                                                                 weight_2[0][0]                   \n",
      "__________________________________________________________________________________________________\n",
      "model_2 (Model)                 (None, 10)           805642      lambda_9[0][0]                   \n",
      "==================================================================================================\n",
      "Total params: 840,462\n",
      "Trainable params: 34,820\n",
      "Non-trainable params: 805,642\n",
      "__________________________________________________________________________________________________\n",
      "None\n"
     ]
    }
   ],
   "source": [
    "topic_model_pr, optimizer_reset, optimizer, \\\n",
    "  topic_vector,  n_concept, f_input = topic_model_new_MNIST(predict_model,\n",
    "                                f_train,\n",
    "                                y_train,\n",
    "                                n_concept,\n",
    "                                verbose=verbose,\n",
    "                                metric1=['accuracy'],\n",
    "                                loss1=tf.keras.losses.sparse_categorical_crossentropy,\n",
    "                                thres=0.2,\n",
    "                                load=False)"
   ]
  },
  {
   "cell_type": "code",
   "execution_count": 19,
   "metadata": {
    "collapsed": false
   },
   "outputs": [
    {
     "name": "stdout",
     "output_type": "stream",
     "text": [
      "Train on 42000 samples, validate on 10000 samples\n",
      "Epoch 1/10\n",
      "42000/42000 - 3s - loss: 0.9805 - accuracy: 0.0958 - loss_1: 0.3435 - val_loss: 0.2591 - val_accuracy: 0.1001 - val_loss_1: 0.3796\n",
      "Epoch 2/10\n",
      "42000/42000 - 3s - loss: 0.1912 - accuracy: 0.0996 - loss_1: 0.4184 - val_loss: 0.1041 - val_accuracy: 0.0978 - val_loss_1: 0.4572\n",
      "Epoch 3/10\n",
      "42000/42000 - 3s - loss: 0.0962 - accuracy: 0.0997 - loss_1: 0.4972 - val_loss: 0.0509 - val_accuracy: 0.0976 - val_loss_1: 0.5345\n",
      "Epoch 4/10\n",
      "42000/42000 - 3s - loss: 0.0558 - accuracy: 0.0993 - loss_1: 0.5699 - val_loss: 0.0329 - val_accuracy: 0.0955 - val_loss_1: 0.6004\n",
      "Epoch 5/10\n",
      "42000/42000 - 3s - loss: 0.0268 - accuracy: 0.0992 - loss_1: 0.6261 - val_loss: 0.0187 - val_accuracy: 0.0992 - val_loss_1: 0.6471\n",
      "Epoch 6/10\n",
      "42000/42000 - 3s - loss: 0.0136 - accuracy: 0.0994 - loss_1: 0.6685 - val_loss: 0.0124 - val_accuracy: 0.0985 - val_loss_1: 0.6855\n",
      "Epoch 7/10\n",
      "42000/42000 - 3s - loss: 0.0082 - accuracy: 0.0996 - loss_1: 0.7006 - val_loss: 0.0034 - val_accuracy: 0.0982 - val_loss_1: 0.7129\n",
      "Epoch 8/10\n",
      "42000/42000 - 3s - loss: 6.9523e-04 - accuracy: 0.0997 - loss_1: 0.7248 - val_loss: 0.0019 - val_accuracy: 0.0985 - val_loss_1: 0.7325\n",
      "Epoch 9/10\n",
      "42000/42000 - 3s - loss: -6.1877e-04 - accuracy: 0.0994 - loss_1: 0.7394 - val_loss: -3.9535e-03 - val_accuracy: 0.0970 - val_loss_1: 0.7424\n",
      "Epoch 10/10\n",
      "42000/42000 - 3s - loss: -7.4166e-03 - accuracy: 0.0995 - loss_1: 0.7495 - val_loss: -9.0881e-03 - val_accuracy: 0.0988 - val_loss_1: 0.7538\n"
     ]
    },
    {
     "data": {
      "text/plain": [
       "<tensorflow.python.keras.callbacks.History at 0x7ff93265fb70>"
      ]
     },
     "execution_count": 19,
     "metadata": {},
     "output_type": "execute_result"
    }
   ],
   "source": [
    "topic_model_pr.fit(\n",
    "  f_train,\n",
    "  y_train[ind],\n",
    "  batch_size=batch_size,\n",
    "  epochs=10,   validation_data=(f_val, y_val),\n",
    "  verbose=verbose)"
   ]
  },
  {
   "cell_type": "code",
   "execution_count": 20,
   "metadata": {
    "collapsed": false
   },
   "outputs": [],
   "source": [
    "predict = topic_model_pr.predict(f_train)"
   ]
  },
  {
   "cell_type": "code",
   "execution_count": 22,
   "metadata": {
    "collapsed": false
   },
   "outputs": [
    {
     "name": "stdout",
     "output_type": "stream",
     "text": [
      "42000/42000 [==============================] - 6s 146us/sample - loss: -0.0082 - accuracy: 0.1007 - loss_1: 0.6625\n"
     ]
    },
    {
     "data": {
      "text/plain": [
       "[-0.008222715251502536, 0.100666665, 0.6624555]"
      ]
     },
     "execution_count": 22,
     "metadata": {},
     "output_type": "execute_result"
    }
   ],
   "source": [
    "topic_model_pr.evaluate(f_train,y_train[ind])"
   ]
  },
  {
   "cell_type": "code",
   "execution_count": 23,
   "metadata": {
    "collapsed": false
   },
   "outputs": [
    {
     "data": {
      "text/plain": [
       "0.979047619047619"
      ]
     },
     "execution_count": 23,
     "metadata": {},
     "output_type": "execute_result"
    }
   ],
   "source": [
    "(np.argmax(predict,axis=1) == y_train[ind]).mean()"
   ]
  },
  {
   "cell_type": "code",
   "execution_count": 24,
   "metadata": {
    "collapsed": true
   },
   "outputs": [],
   "source": [
    "topic_model_pr.save_weights(model_dir+'latest_topic_toy.h5')\n",
    "\n",
    "topic_vec = topic_model_pr.layers[1].get_weights()[0]\n",
    "recov_vec = topic_model_pr.layers[-3].get_weights()[0]\n",
    "topic_vec_n = topic_vec/(np.linalg.norm(topic_vec,axis=0,keepdims=True)+1e-9)"
   ]
  },
  {
   "cell_type": "code",
   "execution_count": 25,
   "metadata": {
    "collapsed": false
   },
   "outputs": [],
   "source": [
    "f_train_n = f_train/(np.linalg.norm(f_train,axis=3,keepdims=True)+1e-9)\n",
    "topic_vec_n = topic_vec/(np.linalg.norm(topic_vec,axis=0,keepdims=True)+1e-9)\n",
    "topic_prob = np.matmul(f_train_n,topic_vec_n)\n",
    "n_size = 7\n",
    "j_int, a, b = {},{},{}\n",
    "for i in range(n_concept):\n",
    "    j_int[i], a[i], b[i] = [], [], []\n",
    "    ind = np.argpartition(topic_prob[:,:,:,i].flatten(), -10)[-10:]\n",
    "    sim_list = topic_prob[:,:,:,i].flatten()[ind]\n",
    "    for jc,j in enumerate(ind):\n",
    "        j_int[i].append(int(np.floor(j/(n_size*n_size))))\n",
    "        a[i].append(int((j-j_int[i][-1]*(n_size*n_size))/n_size))\n",
    "        b[i].append(int((j-j_int[i][-1]*(n_size*n_size))%n_size))\n",
    "        #MNIST_helper.copy_save_image(x_train[j_int,:,:,0],f1,f2,a,b)\n",
    "    np.save(model_dir+'topic_vec_MNIST.npy',topic_vec)\n",
    "    np.save(model_dir+'recov_vec_MNIST.npy',recov_vec)"
   ]
  },
  {
   "cell_type": "code",
   "execution_count": 348,
   "metadata": {
    "collapsed": false
   },
   "outputs": [],
   "source": [
    "experiment_run = '42'\n",
    "percentage = 0.7\n",
    "seed = int(experiment_run)\n",
    "np.random.seed(seed)\n",
    "indices = np.random.choice(len(x_train), size=int(percentage*len(x_train)), replace=False)\n",
    "base_architecture = 'new_MNIST_base'\n",
    "model_dir = './saved_models/' + base_architecture + '/' + experiment_run + '/'\n",
    "a = pickle.load( open(model_dir+\"a_{}.pkl\".format(seed),\"rb\"))\n",
    "b = pickle.load( open(model_dir+\"b_{}.pkl\".format(seed),\"rb\"))\n",
    "j_int = pickle.load(open(model_dir+\"j_int_{}.pkl\".format(seed),\"rb\"))"
   ]
  },
  {
   "cell_type": "code",
   "execution_count": 349,
   "metadata": {
    "collapsed": true
   },
   "outputs": [],
   "source": [
    "x_train_ind = x_train[indices]"
   ]
  },
  {
   "cell_type": "code",
   "execution_count": 232,
   "metadata": {
    "collapsed": false
   },
   "outputs": [
    {
     "data": {
      "text/plain": [
       "2"
      ]
     },
     "execution_count": 232,
     "metadata": {},
     "output_type": "execute_result"
    }
   ],
   "source": [
    "1+1"
   ]
  },
  {
   "cell_type": "code",
   "execution_count": 262,
   "metadata": {
    "collapsed": false
   },
   "outputs": [
    {
     "data": {
      "image/png": "[encoded data removed]",
      "text/plain": [
       "<Figure size 1440x1440 with 100 Axes>"
      ]
     },
     "metadata": {
      "needs_background": "light"
     },
     "output_type": "display_data"
    }
   ],
   "source": [
    "fig, axs = plt.subplots(len(j_int), len(j_int[0]),figsize=[20,20])\n",
    "for i in range(len(j_int)):\n",
    "    for j in range(len(j_int[i])):\n",
    "        axs[i,j].imshow(x_train[j_int[i][j],:,:,0])"
   ]
  },
  {
   "cell_type": "code",
   "execution_count": 16,
   "metadata": {
    "collapsed": false
   },
   "outputs": [],
   "source": [
    "def illustrator(pos,layers,input_shape=28):\n",
    "    for layer in layers:\n",
    "        layer[\"input\"] = input_shape\n",
    "        if layer['padding'] == 'same':\n",
    "            input_shape = int(np.ceil(input_shape/layer['stride']))\n",
    "        else:\n",
    "            input_shape = int(np.ceil((input_shape+1-layer['pool_size'])/layer['stride']))\n",
    "    #print(input_shape)\n",
    "    last_layer = np.zeros([input_shape,input_shape])\n",
    "    left = pos[1]\n",
    "    right = left+1\n",
    "    top = pos[0]\n",
    "    bottom = top+1\n",
    "    last_layer[left:right,top:bottom] = 1\n",
    "    layers.reverse()\n",
    "    for layer in layers:\n",
    "        current_layer = np.zeros([layer[\"input\"],layer[\"input\"]])\n",
    "        left = max(0,layer[\"stride\"]*left-int(layer['pool_size']/2))\n",
    "        right = min(layer[\"input\"],layer[\"stride\"]*(right-1)+int(layer['pool_size']/2))+1\n",
    "        top = max(0,layer[\"stride\"]*top-int(layer['pool_size']/2))\n",
    "        bottom = min(layer[\"input\"],layer[\"stride\"]*(bottom-1)+int(layer['pool_size']/2))+1\n",
    "        #print(left,right, top, bottom)\n",
    "        current_layer[left:right,left:right] = 1\n",
    "    return left,right, top, bottom\n",
    "        "
   ]
  },
  {
   "cell_type": "code",
   "execution_count": 18,
   "metadata": {
    "collapsed": true
   },
   "outputs": [],
   "source": [
    "layers = [\n",
    "    {'padding': 'same' , 'pool_size': 5, 'stride': 1},\n",
    "    {'padding': 'same' , 'pool_size': 5, 'stride': 1},\n",
    "    {'padding': 'valid' , 'pool_size': 2, 'stride': 2},\n",
    "    {'padding': 'same' , 'pool_size': 3, 'stride': 1},\n",
    "    {'padding': 'same' , 'pool_size': 3, 'stride': 1},\n",
    "    {'padding': 'valid' , 'pool_size': 2, 'stride': 2}\n",
    "]"
   ]
  },
  {
   "cell_type": "code",
   "execution_count": 226,
   "metadata": {
    "collapsed": false
   },
   "outputs": [
    {
     "name": "stdout",
     "output_type": "stream",
     "text": [
      "7\n",
      "1 4 1 4\n",
      "0 5 0 5\n",
      "0 6 0 6\n",
      "0 12 0 12\n",
      "0 14 0 14\n",
      "0 16 0 16\n"
     ]
    },
    {
     "data": {
      "text/plain": [
       "(0, 16, 0, 16)"
      ]
     },
     "execution_count": 226,
     "metadata": {},
     "output_type": "execute_result"
    }
   ],
   "source": [
    "illustrator([1,1],layers,input_shape=28)"
   ]
  },
  {
   "cell_type": "markdown",
   "metadata": {
    "collapsed": true
   },
   "source": [
    "# Count concepts"
   ]
  },
  {
   "cell_type": "code",
   "execution_count": 6,
   "metadata": {
    "collapsed": false
   },
   "outputs": [],
   "source": [
    "experiment_run = '2'\n",
    "seed = int(experiment_run)\n",
    "base_architecture = 'new_MNIST_base'\n",
    "model_dir = './saved_models/' + base_architecture + '/' + experiment_run + '/'\n",
    "a = pickle.load( open(model_dir+\"a_{}.pkl\".format(seed),\"rb\"))\n",
    "b = pickle.load( open(model_dir+\"b_{}.pkl\".format(seed),\"rb\"))\n",
    "j_int = pickle.load(open(model_dir+\"j_int_{}.pkl\".format(seed),\"rb\"))"
   ]
  },
  {
   "cell_type": "code",
   "execution_count": 8,
   "metadata": {
    "collapsed": false
   },
   "outputs": [],
   "source": [
    "all_neighbours = []\n",
    "for seed in range(4000):\n",
    "    experiment_run = str(seed)\n",
    "    model_dir = './saved_models/' + base_architecture + '/' + experiment_run + '/'\n",
    "    a = pickle.load( open(model_dir+\"a_{}.pkl\".format(seed),\"rb\"))\n",
    "    b = pickle.load( open(model_dir+\"b_{}.pkl\".format(seed),\"rb\"))\n",
    "    np.random.seed(seed)\n",
    "    indices = np.random.choice(60000, size=int(0.7*60000), replace=False)\n",
    "    j_int = pickle.load(open(model_dir+\"j_int_{}.pkl\".format(seed),\"rb\"))\n",
    "    for key in a.keys():\n",
    "        all_neighbours.append(np.asarray(indices[j_int[key]])*100+np.asarray(a[key])*10+np.asarray(b[key]))"
   ]
  },
  {
   "cell_type": "code",
   "execution_count": 9,
   "metadata": {
    "collapsed": false
   },
   "outputs": [],
   "source": [
    "all_neighbours = np.asarray(all_neighbours)"
   ]
  },
  {
   "cell_type": "code",
   "execution_count": 10,
   "metadata": {
    "collapsed": false
   },
   "outputs": [],
   "source": [
    "unique, counts = np.unique(all_neighbours, return_counts=True)"
   ]
  },
  {
   "cell_type": "code",
   "execution_count": 11,
   "metadata": {
    "collapsed": false
   },
   "outputs": [
    {
     "data": {
      "text/plain": [
       "352831"
      ]
     },
     "execution_count": 11,
     "metadata": {},
     "output_type": "execute_result"
    }
   ],
   "source": [
    "len(unique)"
   ]
  },
  {
   "cell_type": "code",
   "execution_count": 13,
   "metadata": {
    "collapsed": false
   },
   "outputs": [
    {
     "data": {
      "text/plain": [
       "(array([3.12361e+05, 3.50210e+04, 4.53100e+03, 7.22000e+02, 0.00000e+00,\n",
       "        1.39000e+02, 3.00000e+01, 1.10000e+01, 3.00000e+00, 0.00000e+00,\n",
       "        5.00000e+00, 3.00000e+00, 2.00000e+00, 0.00000e+00, 0.00000e+00,\n",
       "        2.00000e+00, 0.00000e+00, 0.00000e+00, 0.00000e+00, 1.00000e+00]),\n",
       " array([ 1. ,  1.8,  2.6,  3.4,  4.2,  5. ,  5.8,  6.6,  7.4,  8.2,  9. ,\n",
       "         9.8, 10.6, 11.4, 12.2, 13. , 13.8, 14.6, 15.4, 16.2, 17. ]),\n",
       " <a list of 20 Patch objects>)"
      ]
     },
     "execution_count": 13,
     "metadata": {},
     "output_type": "execute_result"
    },
    {
     "data": {
      "image/png": "[encoded data removed]",
      "text/plain": [
       "<Figure size 432x288 with 1 Axes>"
      ]
     },
     "metadata": {
      "needs_background": "light"
     },
     "output_type": "display_data"
    }
   ],
   "source": [
    "plt.hist(counts, bins=20)"
   ]
  },
  {
   "cell_type": "code",
   "execution_count": 14,
   "metadata": {
    "collapsed": false
   },
   "outputs": [
    {
     "data": {
      "text/plain": [
       "4283300"
      ]
     },
     "execution_count": 14,
     "metadata": {},
     "output_type": "execute_result"
    }
   ],
   "source": [
    "unique[np.argmax(counts)]"
   ]
  },
  {
   "cell_type": "code",
   "execution_count": 21,
   "metadata": {
    "collapsed": false
   },
   "outputs": [
    {
     "data": {
      "text/plain": [
       "<matplotlib.image.AxesImage at 0x7fece09a7ef0>"
      ]
     },
     "execution_count": 21,
     "metadata": {},
     "output_type": "execute_result"
    },
    {
     "data": {
      "image/png": "[encoded data removed]",
      "text/plain": [
       "<Figure size 432x288 with 1 Axes>"
      ]
     },
     "metadata": {
      "needs_background": "light"
     },
     "output_type": "display_data"
    }
   ],
   "source": [
    "left,right, top, bottom = illustrator([0,0],layers,input_shape=28)\n",
    "plt.imshow(x_train[42833,top:bottom,left:right,0])"
   ]
  },
  {
   "cell_type": "code",
   "execution_count": 22,
   "metadata": {
    "collapsed": false
   },
   "outputs": [],
   "source": [
    "sets = {}\n",
    "set_numbers = {}\n",
    "for number in unique:\n",
    "    set_numbers[number] = -1\n",
    "counter = 0"
   ]
  },
  {
   "cell_type": "code",
   "execution_count": 23,
   "metadata": {
    "collapsed": false
   },
   "outputs": [],
   "source": [
    "for new_set in all_neighbours:\n",
    "    exisiting_sets = np.unique([set_numbers[member] for member in new_set])\n",
    "    new_set_number = -1\n",
    "    found = False\n",
    "    for exisiting_set in exisiting_sets:\n",
    "        if exisiting_set!=-1:\n",
    "            if not found:\n",
    "                new_set_number = exisiting_set\n",
    "                found = True\n",
    "            else:\n",
    "                for member in sets[exisiting_set]:\n",
    "                    set_numbers[member] = new_set_number\n",
    "                    sets[new_set_number].add(member)\n",
    "                sets.pop(exisiting_set,None)\n",
    "    if new_set_number == -1:\n",
    "        new_set_number = counter\n",
    "        sets[new_set_number] = set()\n",
    "        counter += 1\n",
    "    for member in new_set:\n",
    "        set_numbers[member] = new_set_number\n",
    "        sets[new_set_number].add(member)     "
   ]
  },
  {
   "cell_type": "code",
   "execution_count": 28,
   "metadata": {
    "collapsed": false
   },
   "outputs": [
    {
     "data": {
      "text/plain": [
       "[<matplotlib.lines.Line2D at 0x7fecdeebbe48>]"
      ]
     },
     "execution_count": 28,
     "metadata": {},
     "output_type": "execute_result"
    },
    {
     "data": {
      "image/png": "[encoded data removed]",
      "text/plain": [
       "<Figure size 432x288 with 1 Axes>"
      ]
     },
     "metadata": {
      "needs_background": "light"
     },
     "output_type": "display_data"
    }
   ],
   "source": [
    "plt.plot(np.log([len(sets[key]) for key in sets.keys()]))"
   ]
  },
  {
   "cell_type": "code",
   "execution_count": 335,
   "metadata": {
    "collapsed": false
   },
   "outputs": [
    {
     "data": {
      "text/plain": [
       "0"
      ]
     },
     "execution_count": 335,
     "metadata": {},
     "output_type": "execute_result"
    }
   ],
   "source": [
    "np.min(all_neighbours)"
   ]
  },
  {
   "cell_type": "code",
   "execution_count": 167,
   "metadata": {
    "collapsed": false
   },
   "outputs": [
    {
     "name": "stdout",
     "output_type": "stream",
     "text": [
      "0, 1, 2, 3, 4, 5, 6, 7, 8, 9, 10, 11, 12, 13, 14, 15, 16, 17, 18, 19, 20, 21, 22, 23, 24, 25, 26, 27, 28, 29, 30, 31, 32, 33, 34, 35, 36, 37, 38, 39, 40, 41, 42, 43, 44, 45, 46, 47, 48, 49, 50, 51, 52, 53, 54, 55, 56, 57, 58, 59, 60, 61, 62, 63, 64, 65, 66, 67, 68, 69, 70, 71, 72, 73, 74, 75, 76, 77, 78, 79, 80, 81, 82, 83, 84, 85, 86, 87, 88, 89, 90, 91, 92, 93, 94, 95, 96, 97, 98, 99, CPU times: user 1min 1s, sys: 3.58 s, total: 1min 4s\n",
      "Wall time: 1min 4s\n"
     ]
    }
   ],
   "source": [
    "%%time\n",
    "threshold = 0.7\n",
    "all_concepts = []\n",
    "for seed in range(0,100):\n",
    "    print(seed,end=\", \")\n",
    "    experiment_run = str(seed)\n",
    "    model_dir = './saved_models/' + base_architecture + '/' + experiment_run + '/'\n",
    "    topic_prob = pickle.load( open(model_dir+\"topic_prob_{}.pkl\".format(seed),\"rb\"))\n",
    "    sets = []\n",
    "    for concept_number in range(10):\n",
    "        sets.append(set())\n",
    "    for ind, i , j, concept_number in zip(*np.where((topic_prob > threshold))):\n",
    "        sets[concept_number].add(100*ind+10*i+j)\n",
    "    all_concepts = all_concepts + sets"
   ]
  },
  {
   "cell_type": "code",
   "execution_count": 171,
   "metadata": {
    "collapsed": false
   },
   "outputs": [
    {
     "data": {
      "text/plain": [
       "234"
      ]
     },
     "execution_count": 171,
     "metadata": {},
     "output_type": "execute_result"
    }
   ],
   "source": [
    "np.argmin([len(i) for i in all_concepts])"
   ]
  },
  {
   "cell_type": "code",
   "execution_count": 172,
   "metadata": {
    "collapsed": false
   },
   "outputs": [],
   "source": [
    "def intersection_over_union(s1,s2):\n",
    "    if len(s1)==0 and len(s2)==0:\n",
    "        return 0\n",
    "    return len(s1.intersection(s2))/len(s1.union(s2))"
   ]
  },
  {
   "cell_type": "code",
   "execution_count": 173,
   "metadata": {
    "collapsed": true
   },
   "outputs": [],
   "source": [
    "similarity = np.zeros([1000,1000])"
   ]
  },
  {
   "cell_type": "code",
   "execution_count": 176,
   "metadata": {
    "collapsed": false
   },
   "outputs": [
    {
     "name": "stdout",
     "output_type": "stream",
     "text": [
      "0, 1, 2, 3, 4, 5, 6, 7, 8, 9, 10, 11, 12, 13, 14, 15, 16, 17, 18, 19, 20, 21, 22, 23, 24, 25, 26, 27, 28, 29, 30, 31, 32, 33, 34, 35, 36, 37, 38, 39, 40, 41, 42, 43, 44, 45, 46, 47, 48, 49, 50, 51, 52, 53, 54, 55, 56, 57, 58, 59, 60, 61, 62, 63, 64, 65, 66, 67, 68, 69, 70, 71, 72, 73, 74, 75, 76, 77, 78, 79, 80, 81, 82, 83, 84, 85, 86, 87, 88, 89, 90, 91, 92, 93, 94, 95, 96, 97, 98, 99, 100, 101, 102, 103, 104, 105, 106, 107, 108, 109, 110, 111, 112, 113, 114, 115, 116, 117, 118, 119, 120, 121, 122, 123, 124, 125, 126, 127, 128, 129, 130, 131, 132, 133, 134, 135, 136, 137, 138, 139, 140, 141, 142, 143, 144, 145, 146, 147, 148, 149, 150, 151, 152, 153, 154, 155, 156, 157, 158, 159, 160, 161, 162, 163, 164, 165, 166, 167, 168, 169, 170, 171, 172, 173, 174, 175, 176, 177, 178, 179, 180, 181, 182, 183, 184, 185, 186, 187, 188, 189, 190, 191, 192, 193, 194, 195, 196, 197, 198, 199, 200, 201, 202, 203, 204, 205, 206, 207, 208, 209, 210, 211, 212, 213, 214, 215, 216, 217, 218, 219, 220, 221, 222, 223, 224, 225, 226, 227, 228, 229, 230, 231, 232, 233, 234, 235, 236, 237, 238, 239, 240, 241, 242, 243, 244, 245, 246, 247, 248, 249, 250, 251, 252, 253, 254, 255, 256, 257, 258, 259, 260, 261, 262, 263, 264, 265, 266, 267, 268, 269, 270, 271, 272, 273, 274, 275, 276, 277, 278, 279, 280, 281, 282, 283, 284, 285, 286, 287, 288, 289, 290, 291, 292, 293, 294, 295, 296, 297, 298, 299, 300, 301, 302, 303, 304, 305, 306, 307, 308, 309, 310, 311, 312, 313, 314, 315, 316, 317, 318, 319, 320, 321, 322, 323, 324, 325, 326, 327, 328, 329, 330, 331, 332, 333, 334, 335, 336, 337, 338, 339, 340, 341, 342, 343, 344, 345, 346, 347, 348, 349, 350, 351, 352, 353, 354, 355, 356, 357, 358, 359, 360, 361, 362, 363, 364, 365, 366, 367, 368, 369, 370, 371, 372, 373, 374, 375, 376, 377, 378, 379, 380, 381, 382, 383, 384, 385, 386, 387, 388, 389, 390, 391, 392, 393, 394, 395, 396, 397, 398, 399, 400, 401, 402, 403, 404, 405, 406, 407, 408, 409, 410, 411, 412, 413, 414, 415, 416, 417, 418, 419, 420, 421, 422, 423, 424, 425, 426, 427, 428, 429, 430, 431, 432, 433, 434, 435, 436, 437, 438, 439, 440, 441, 442, 443, 444, 445, 446, 447, 448, 449, 450, 451, 452, 453, 454, 455, 456, 457, 458, 459, 460, 461, 462, 463, 464, 465, 466, 467, 468, 469, 470, 471, 472, 473, 474, 475, 476, 477, 478, 479, 480, 481, 482, 483, 484, 485, 486, 487, 488, 489, 490, 491, 492, 493, 494, 495, 496, 497, 498, 499, 500, 501, 502, 503, 504, 505, 506, 507, 508, 509, 510, 511, 512, 513, 514, 515, 516, 517, 518, 519, 520, 521, 522, 523, 524, 525, 526, 527, 528, 529, 530, 531, 532, 533, 534, 535, 536, 537, 538, 539, 540, 541, 542, 543, 544, 545, 546, 547, 548, 549, 550, 551, 552, 553, 554, 555, 556, 557, 558, 559, 560, 561, 562, 563, 564, 565, 566, 567, 568, 569, 570, 571, 572, 573, 574, 575, 576, 577, 578, 579, 580, 581, 582, 583, 584, 585, 586, 587, 588, 589, 590, 591, 592, 593, 594, 595, 596, 597, 598, 599, 600, 601, 602, 603, 604, 605, 606, 607, 608, 609, 610, 611, 612, 613, 614, 615, 616, 617, 618, 619, 620, 621, 622, 623, 624, 625, 626, 627, 628, 629, 630, 631, 632, 633, 634, 635, 636, 637, 638, 639, 640, 641, 642, 643, 644, 645, 646, 647, 648, 649, 650, 651, 652, 653, 654, 655, 656, 657, 658, 659, 660, 661, 662, 663, 664, 665, 666, 667, 668, 669, 670, 671, 672, 673, 674, 675, 676, 677, 678, 679, 680, 681, 682, 683, 684, 685, 686, 687, 688, 689, 690, 691, 692, 693, 694, 695, 696, 697, 698, 699, 700, 701, 702, 703, 704, 705, 706, 707, 708, 709, 710, 711, 712, 713, 714, 715, 716, 717, 718, 719, 720, 721, 722, 723, 724, 725, 726, 727, 728, 729, 730, 731, 732, 733, 734, 735, 736, 737, 738, 739, 740, 741, 742, 743, 744, 745, 746, 747, 748, 749, 750, 751, 752, 753, 754, 755, 756, 757, 758, 759, 760, 761, 762, 763, 764, 765, 766, 767, 768, 769, 770, 771, 772, 773, 774, 775, 776, 777, 778, 779, 780, 781, 782, 783, 784, 785, 786, 787, 788, 789, 790, 791, 792, 793, 794, 795, 796, 797, 798, 799, 800, 801, 802, 803, 804, 805, 806, 807, 808, 809, 810, 811, 812, 813, 814, 815, 816, 817, 818, 819, 820, 821, 822, 823, 824, 825, 826, 827, 828, 829, 830, 831, 832, 833, 834, 835, 836, 837, 838, 839, 840, 841, 842, 843, 844, 845, 846, 847, 848, 849, 850, 851, 852, 853, 854, 855, 856, 857, 858, 859, 860, 861, 862, 863, 864, 865, 866, 867, 868, 869, 870, 871, 872, 873, 874, 875, 876, 877, 878, 879, 880, 881, 882, 883, 884, 885, 886, 887, 888, 889, 890, 891, 892, 893, 894, 895, 896, 897, 898, 899, 900, 901, 902, 903, 904, 905, 906, 907, 908, 909, 910, 911, 912, 913, 914, 915, 916, 917, 918, 919, 920, 921, 922, 923, 924, 925, 926, 927, 928, 929, 930, 931, 932, 933, 934, 935, 936, 937, 938, 939, 940, 941, 942, 943, 944, 945, 946, 947, 948, 949, 950, 951, 952, 953, 954, 955, 956, 957, 958, 959, 960, 961, 962, 963, 964, 965, 966, 967, 968, 969, 970, 971, 972, 973, 974, 975, 976, 977, 978, 979, 980, 981, 982, 983, 984, 985, 986, 987, 988, 989, 990, 991, 992, 993, 994, 995, 996, 997, 998, 999, CPU times: user 29min 12s, sys: 11.5 s, total: 29min 24s\n",
      "Wall time: 29min 23s\n"
     ]
    }
   ],
   "source": [
    "%%time\n",
    "for i in range(0,1000):\n",
    "    print(i,end=\", \")\n",
    "    for j in range(i+1,1000):\n",
    "        similarity[i,j] = intersection_over_union(all_concepts[i],all_concepts[j])"
   ]
  },
  {
   "cell_type": "code",
   "execution_count": 2,
   "metadata": {
    "collapsed": false
   },
   "outputs": [
    {
     "ename": "NameError",
     "evalue": "name 'similarity' is not defined",
     "output_type": "error",
     "traceback": [
      "\u001b[0;31m---------------------------------------------------------------------------\u001b[0m",
      "\u001b[0;31mNameError\u001b[0m                                 Traceback (most recent call last)",
      "\u001b[0;32m<ipython-input-2-e115e6123b68>\u001b[0m in \u001b[0;36m<module>\u001b[0;34m\u001b[0m\n\u001b[0;32m----> 1\u001b[0;31m \u001b[0mfirst_line\u001b[0m \u001b[0;34m=\u001b[0m \u001b[0msimilarity\u001b[0m\u001b[0;34m[\u001b[0m\u001b[0;36m3\u001b[0m\u001b[0;34m]\u001b[0m\u001b[0;34m\u001b[0m\u001b[0m\n\u001b[0m\u001b[1;32m      2\u001b[0m \u001b[0mfirst_line\u001b[0m\u001b[0;34m=\u001b[0m \u001b[0mnp\u001b[0m\u001b[0;34m.\u001b[0m\u001b[0msort\u001b[0m\u001b[0;34m(\u001b[0m\u001b[0mfirst_line\u001b[0m\u001b[0;34m)\u001b[0m\u001b[0;34m\u001b[0m\u001b[0m\n\u001b[1;32m      3\u001b[0m \u001b[0mplt\u001b[0m\u001b[0;34m.\u001b[0m\u001b[0mplot\u001b[0m\u001b[0;34m(\u001b[0m\u001b[0mfirst_line\u001b[0m\u001b[0;34m)\u001b[0m\u001b[0;34m\u001b[0m\u001b[0m\n",
      "\u001b[0;31mNameError\u001b[0m: name 'similarity' is not defined"
     ]
    }
   ],
   "source": [
    "first_line = similarity[3]\n",
    "first_line= np.sort(first_line)\n",
    "plt.plot(first_line)"
   ]
  },
  {
   "cell_type": "code",
   "execution_count": 182,
   "metadata": {
    "collapsed": false
   },
   "outputs": [
    {
     "data": {
      "text/plain": [
       "(array([9.8029e+05, 6.2730e+03, 3.7400e+03, 2.6310e+03, 1.8910e+03,\n",
       "        1.4180e+03, 1.0680e+03, 8.1100e+02, 5.9200e+02, 4.4800e+02,\n",
       "        3.2000e+02, 2.2000e+02, 1.3500e+02, 6.4000e+01, 4.9000e+01,\n",
       "        3.1000e+01, 1.0000e+01, 6.0000e+00, 1.0000e+00, 2.0000e+00]),\n",
       " array([0.        , 0.03873346, 0.07746691, 0.11620037, 0.15493382,\n",
       "        0.19366728, 0.23240073, 0.27113419, 0.30986764, 0.3486011 ,\n",
       "        0.38733455, 0.42606801, 0.46480146, 0.50353492, 0.54226837,\n",
       "        0.58100183, 0.61973528, 0.65846874, 0.69720219, 0.73593565,\n",
       "        0.7746691 ]),\n",
       " <a list of 20 Patch objects>)"
      ]
     },
     "execution_count": 182,
     "metadata": {},
     "output_type": "execute_result"
    },
    {
     "data": {
      "image/png": "[encoded data removed]",
      "text/plain": [
       "<Figure size 432x288 with 1 Axes>"
      ]
     },
     "metadata": {
      "needs_background": "light"
     },
     "output_type": "display_data"
    }
   ],
   "source": [
    "plt.hist(similarity.flatten(),log=True,bins=20)"
   ]
  },
  {
   "cell_type": "code",
   "execution_count": 218,
   "metadata": {
    "collapsed": true
   },
   "outputs": [],
   "source": [
    "from scipy.cluster import hierarchy"
   ]
  },
  {
   "cell_type": "code",
   "execution_count": 229,
   "metadata": {
    "collapsed": false
   },
   "outputs": [
    {
     "name": "stderr",
     "output_type": "stream",
     "text": [
      "/opt/anaconda/envs/tf2/lib/python3.6/site-packages/ipykernel/__main__.py:1: ClusterWarning: scipy.cluster: The symmetric non-negative hollow observation matrix looks suspiciously like an uncondensed distance matrix\n",
      "  if __name__ == '__main__':\n"
     ]
    },
    {
     "data": {
      "image/png": "[encoded data removed]",
      "text/plain": [
       "<Figure size 432x288 with 1 Axes>"
      ]
     },
     "metadata": {
      "needs_background": "light"
     },
     "output_type": "display_data"
    }
   ],
   "source": [
    "Z = hierarchy.linkage(distance_matrix, 'complete')\n",
    "\n",
    "plt.figure()\n",
    "\n",
    "dn = hierarchy.dendrogram(Z)"
   ]
  },
  {
   "cell_type": "code",
   "execution_count": 202,
   "metadata": {
    "collapsed": false
   },
   "outputs": [],
   "source": [
    "distance_matrix = similarity"
   ]
  },
  {
   "cell_type": "code",
   "execution_count": 203,
   "metadata": {
    "collapsed": true
   },
   "outputs": [],
   "source": [
    "distance_matrix = distance_matrix + distance_matrix.T"
   ]
  },
  {
   "cell_type": "code",
   "execution_count": 204,
   "metadata": {
    "collapsed": true
   },
   "outputs": [],
   "source": [
    "distance_matrix = distance_matrix + np.eye(len(distance_matrix))"
   ]
  },
  {
   "cell_type": "code",
   "execution_count": 205,
   "metadata": {
    "collapsed": false
   },
   "outputs": [],
   "source": [
    "distance_matrix = 1 - distance_matrix"
   ]
  },
  {
   "cell_type": "code",
   "execution_count": 87,
   "metadata": {
    "collapsed": false
   },
   "outputs": [],
   "source": [
    "random_sims = []\n",
    "trials = 1000\n",
    "for _ in range(trials):\n",
    "    i = np.random.randint(1000)\n",
    "    j = np.random.randint(1000)\n",
    "    sim = intersection_over_union(all_concepts[i],all_concepts[j])\n",
    "    random_sims.append([i,j,sim])"
   ]
  },
  {
   "cell_type": "code",
   "execution_count": 83,
   "metadata": {
    "collapsed": false
   },
   "outputs": [
    {
     "data": {
      "text/plain": [
       "950"
      ]
     },
     "execution_count": 83,
     "metadata": {},
     "output_type": "execute_result"
    }
   ],
   "source": [
    "np.random.randint(1000)"
   ]
  },
  {
   "cell_type": "code",
   "execution_count": 105,
   "metadata": {
    "collapsed": false
   },
   "outputs": [],
   "source": [
    "random_sim_sort = np.argsort(np.asarray(random_sims)[:,2])"
   ]
  },
  {
   "cell_type": "code",
   "execution_count": 110,
   "metadata": {
    "collapsed": false
   },
   "outputs": [
    {
     "data": {
      "text/plain": [
       "[<matplotlib.lines.Line2D at 0x7fe756aa7668>]"
      ]
     },
     "execution_count": 110,
     "metadata": {},
     "output_type": "execute_result"
    },
    {
     "data": {
      "image/png": "[encoded data removed]",
      "text/plain": [
       "<Figure size 432x288 with 1 Axes>"
      ]
     },
     "metadata": {
      "needs_background": "light"
     },
     "output_type": "display_data"
    }
   ],
   "source": [
    "plt.plot(np.asarray(random_sims)[:,2][random_sim_sort])"
   ]
  },
  {
   "cell_type": "code",
   "execution_count": 97,
   "metadata": {
    "collapsed": false
   },
   "outputs": [
    {
     "data": {
      "text/plain": [
       "0.5129879564136877"
      ]
     },
     "execution_count": 97,
     "metadata": {},
     "output_type": "execute_result"
    }
   ],
   "source": [
    "random_sim_sort[-2]"
   ]
  },
  {
   "cell_type": "code",
   "execution_count": 145,
   "metadata": {
    "collapsed": false
   },
   "outputs": [
    {
     "data": {
      "text/plain": [
       "array([9.5500000e+02, 5.8400000e+02, 3.9679707e-01])"
      ]
     },
     "execution_count": 145,
     "metadata": {},
     "output_type": "execute_result"
    }
   ],
   "source": [
    "np.asarray(random_sims)[random_sim_sort[-10]]"
   ]
  },
  {
   "cell_type": "code",
   "execution_count": 121,
   "metadata": {
    "collapsed": false
   },
   "outputs": [],
   "source": [
    "e = next(iter(all_concepts[252]))"
   ]
  },
  {
   "cell_type": "code",
   "execution_count": null,
   "metadata": {
    "collapsed": false
   },
   "outputs": [],
   "source": [
    "int, "
   ]
  },
  {
   "cell_type": "code",
   "execution_count": 148,
   "metadata": {
    "collapsed": false
   },
   "outputs": [
    {
     "name": "stdout",
     "output_type": "stream",
     "text": [
      "4194304\n"
     ]
    },
    {
     "data": {
      "image/png": "[encoded data removed]",
      "text/plain": [
       "<Figure size 432x288 with 1 Axes>"
      ]
     },
     "metadata": {
      "needs_background": "light"
     },
     "output_type": "display_data"
    },
    {
     "name": "stdout",
     "output_type": "stream",
     "text": [
      "4\n"
     ]
    },
    {
     "data": {
      "image/png": "[encoded data removed]",
      "text/plain": [
       "<Figure size 432x288 with 1 Axes>"
      ]
     },
     "metadata": {
      "needs_background": "light"
     },
     "output_type": "display_data"
    },
    {
     "name": "stdout",
     "output_type": "stream",
     "text": [
      "5\n"
     ]
    },
    {
     "data": {
      "image/png": "[encoded data removed]",
      "text/plain": [
       "<Figure size 432x288 with 1 Axes>"
      ]
     },
     "metadata": {
      "needs_background": "light"
     },
     "output_type": "display_data"
    },
    {
     "name": "stdout",
     "output_type": "stream",
     "text": [
      "3145733\n"
     ]
    },
    {
     "data": {
      "image/png": "[encoded data removed]",
      "text/plain": [
       "<Figure size 432x288 with 1 Axes>"
      ]
     },
     "metadata": {
      "needs_background": "light"
     },
     "output_type": "display_data"
    },
    {
     "name": "stdout",
     "output_type": "stream",
     "text": [
      "3670022\n"
     ]
    },
    {
     "data": {
      "image/png": "[encoded data removed]",
      "text/plain": [
       "<Figure size 432x288 with 1 Axes>"
      ]
     },
     "metadata": {
      "needs_background": "light"
     },
     "output_type": "display_data"
    },
    {
     "name": "stdout",
     "output_type": "stream",
     "text": [
      "3670023\n"
     ]
    },
    {
     "data": {
      "image/png": "[encoded data removed]",
      "text/plain": [
       "<Figure size 432x288 with 1 Axes>"
      ]
     },
     "metadata": {
      "needs_background": "light"
     },
     "output_type": "display_data"
    },
    {
     "name": "stdout",
     "output_type": "stream",
     "text": [
      "3670024\n"
     ]
    },
    {
     "data": {
      "image/png": "[encoded data removed]",
      "text/plain": [
       "<Figure size 432x288 with 1 Axes>"
      ]
     },
     "metadata": {
      "needs_background": "light"
     },
     "output_type": "display_data"
    },
    {
     "name": "stdout",
     "output_type": "stream",
     "text": [
      "10\n"
     ]
    },
    {
     "data": {
      "image/png": "[encoded data removed]",
      "text/plain": [
       "<Figure size 432x288 with 1 Axes>"
      ]
     },
     "metadata": {
      "needs_background": "light"
     },
     "output_type": "display_data"
    },
    {
     "name": "stdout",
     "output_type": "stream",
     "text": [
      "11\n"
     ]
    },
    {
     "data": {
      "image/png": "[encoded data removed]",
      "text/plain": [
       "<Figure size 432x288 with 1 Axes>"
      ]
     },
     "metadata": {
      "needs_background": "light"
     },
     "output_type": "display_data"
    },
    {
     "name": "stdout",
     "output_type": "stream",
     "text": [
      "12\n"
     ]
    },
    {
     "data": {
      "image/png": "[encoded data removed]",
      "text/plain": [
       "<Figure size 432x288 with 1 Axes>"
      ]
     },
     "metadata": {
      "needs_background": "light"
     },
     "output_type": "display_data"
    },
    {
     "name": "stdout",
     "output_type": "stream",
     "text": [
      "13\n"
     ]
    },
    {
     "data": {
      "image/png": "[encoded data removed]",
      "text/plain": [
       "<Figure size 432x288 with 1 Axes>"
      ]
     },
     "metadata": {
      "needs_background": "light"
     },
     "output_type": "display_data"
    },
    {
     "name": "stdout",
     "output_type": "stream",
     "text": [
      "14\n"
     ]
    },
    {
     "data": {
      "image/png": "[encoded data removed]",
      "text/plain": [
       "<Figure size 432x288 with 1 Axes>"
      ]
     },
     "metadata": {
      "needs_background": "light"
     },
     "output_type": "display_data"
    },
    {
     "name": "stdout",
     "output_type": "stream",
     "text": [
      "15\n"
     ]
    },
    {
     "data": {
      "image/png": "[encoded data removed]",
      "text/plain": [
       "<Figure size 432x288 with 1 Axes>"
      ]
     },
     "metadata": {
      "needs_background": "light"
     },
     "output_type": "display_data"
    },
    {
     "name": "stdout",
     "output_type": "stream",
     "text": [
      "2621451\n"
     ]
    },
    {
     "data": {
      "image/png": "[encoded data removed]",
      "text/plain": [
       "<Figure size 432x288 with 1 Axes>"
      ]
     },
     "metadata": {
      "needs_background": "light"
     },
     "output_type": "display_data"
    },
    {
     "name": "stdout",
     "output_type": "stream",
     "text": [
      "2621452\n"
     ]
    },
    {
     "data": {
      "image/png": "[encoded data removed]",
      "text/plain": [
       "<Figure size 432x288 with 1 Axes>"
      ]
     },
     "metadata": {
      "needs_background": "light"
     },
     "output_type": "display_data"
    },
    {
     "name": "stdout",
     "output_type": "stream",
     "text": [
      "2621453\n"
     ]
    },
    {
     "data": {
      "image/png": "[encoded data removed]",
      "text/plain": [
       "<Figure size 432x288 with 1 Axes>"
      ]
     },
     "metadata": {
      "needs_background": "light"
     },
     "output_type": "display_data"
    },
    {
     "name": "stdout",
     "output_type": "stream",
     "text": [
      "3670030\n"
     ]
    },
    {
     "data": {
      "image/png": "[encoded data removed]",
      "text/plain": [
       "<Figure size 432x288 with 1 Axes>"
      ]
     },
     "metadata": {
      "needs_background": "light"
     },
     "output_type": "display_data"
    },
    {
     "name": "stdout",
     "output_type": "stream",
     "text": [
      "4194323\n"
     ]
    },
    {
     "data": {
      "image/png": "[encoded data removed]",
      "text/plain": [
       "<Figure size 432x288 with 1 Axes>"
      ]
     },
     "metadata": {
      "needs_background": "light"
     },
     "output_type": "display_data"
    },
    {
     "name": "stdout",
     "output_type": "stream",
     "text": [
      "4718604\n"
     ]
    },
    {
     "data": {
      "image/png": "[encoded data removed]",
      "text/plain": [
       "<Figure size 432x288 with 1 Axes>"
      ]
     },
     "metadata": {
      "needs_background": "light"
     },
     "output_type": "display_data"
    },
    {
     "name": "stdout",
     "output_type": "stream",
     "text": [
      "4718614\n"
     ]
    },
    {
     "data": {
      "image/png": "[encoded data removed]",
      "text/plain": [
       "<Figure size 432x288 with 1 Axes>"
      ]
     },
     "metadata": {
      "needs_background": "light"
     },
     "output_type": "display_data"
    },
    {
     "name": "stdout",
     "output_type": "stream",
     "text": [
      "5242904\n"
     ]
    },
    {
     "data": {
      "image/png": "[encoded data removed]",
      "text/plain": [
       "<Figure size 432x288 with 1 Axes>"
      ]
     },
     "metadata": {
      "needs_background": "light"
     },
     "output_type": "display_data"
    },
    {
     "name": "stdout",
     "output_type": "stream",
     "text": [
      "524313\n"
     ]
    },
    {
     "data": {
      "image/png": "[encoded data removed]",
      "text/plain": [
       "<Figure size 432x288 with 1 Axes>"
      ]
     },
     "metadata": {
      "needs_background": "light"
     },
     "output_type": "display_data"
    },
    {
     "name": "stdout",
     "output_type": "stream",
     "text": [
      "524314\n"
     ]
    },
    {
     "data": {
      "image/png": "[encoded data removed]",
      "text/plain": [
       "<Figure size 432x288 with 1 Axes>"
      ]
     },
     "metadata": {
      "needs_background": "light"
     },
     "output_type": "display_data"
    },
    {
     "name": "stdout",
     "output_type": "stream",
     "text": [
      "524315\n"
     ]
    },
    {
     "data": {
      "image/png": "[encoded data removed]",
      "text/plain": [
       "<Figure size 432x288 with 1 Axes>"
      ]
     },
     "metadata": {
      "needs_background": "light"
     },
     "output_type": "display_data"
    },
    {
     "name": "stdout",
     "output_type": "stream",
     "text": [
      "1048604\n"
     ]
    },
    {
     "data": {
      "image/png": "[encoded data removed]",
      "text/plain": [
       "<Figure size 432x288 with 1 Axes>"
      ]
     },
     "metadata": {
      "needs_background": "light"
     },
     "output_type": "display_data"
    },
    {
     "name": "stdout",
     "output_type": "stream",
     "text": [
      "3145761\n"
     ]
    },
    {
     "data": {
      "image/png": "[encoded data removed]",
      "text/plain": [
       "<Figure size 432x288 with 1 Axes>"
      ]
     },
     "metadata": {
      "needs_background": "light"
     },
     "output_type": "display_data"
    },
    {
     "name": "stdout",
     "output_type": "stream",
     "text": [
      "5242913\n"
     ]
    },
    {
     "data": {
      "image/png": "[encoded data removed]",
      "text/plain": [
       "<Figure size 432x288 with 1 Axes>"
      ]
     },
     "metadata": {
      "needs_background": "light"
     },
     "output_type": "display_data"
    },
    {
     "name": "stdout",
     "output_type": "stream",
     "text": [
      "5242914\n"
     ]
    },
    {
     "data": {
      "image/png": "[encoded data removed]",
      "text/plain": [
       "<Figure size 432x288 with 1 Axes>"
      ]
     },
     "metadata": {
      "needs_background": "light"
     },
     "output_type": "display_data"
    },
    {
     "name": "stdout",
     "output_type": "stream",
     "text": [
      "4194340\n"
     ]
    },
    {
     "data": {
      "image/png": "[encoded data removed]",
      "text/plain": [
       "<Figure size 432x288 with 1 Axes>"
      ]
     },
     "metadata": {
      "needs_background": "light"
     },
     "output_type": "display_data"
    },
    {
     "name": "stdout",
     "output_type": "stream",
     "text": [
      "1048613\n"
     ]
    },
    {
     "data": {
      "image/png": "[encoded data removed]",
      "text/plain": [
       "<Figure size 432x288 with 1 Axes>"
      ]
     },
     "metadata": {
      "needs_background": "light"
     },
     "output_type": "display_data"
    }
   ],
   "source": [
    "blaub = iter(all_concepts[584])\n",
    "for i in range(30):\n",
    "    e = next(blaub)\n",
    "    print(e)\n",
    "    left,right, top, bottom = illustrator([e%10, int(e%100/10)],layers,input_shape=28)\n",
    "    plt.imshow(x_train[int(e/100),top:bottom,left:right,0])\n",
    "    plt.show()"
   ]
  },
  {
   "cell_type": "code",
   "execution_count": 137,
   "metadata": {
    "collapsed": false
   },
   "outputs": [
    {
     "data": {
      "text/plain": [
       "2"
      ]
     },
     "execution_count": 137,
     "metadata": {},
     "output_type": "execute_result"
    }
   ],
   "source": [
    "1+1"
   ]
  },
  {
   "cell_type": "code",
   "execution_count": null,
   "metadata": {
    "collapsed": true
   },
   "outputs": [],
   "source": []
  }
 ],
 "metadata": {
  "anaconda-cloud": {},
  "kernelspec": {
   "display_name": "Python [conda env:tf2]",
   "language": "python",
   "name": "conda-env-tf2-py"
  },
  "language_info": {
   "codemirror_mode": {
    "name": "ipython",
    "version": 3
   },
   "file_extension": ".py",
   "mimetype": "text/x-python",
   "name": "python",
   "nbconvert_exporter": "python",
   "pygments_lexer": "ipython3",
   "version": "3.6.2"
  }
 },
 "nbformat": 4,
 "nbformat_minor": 1
}
